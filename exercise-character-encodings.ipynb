{
 "cells": [
  {
   "cell_type": "markdown",
   "id": "7c4a3ea1",
   "metadata": {
    "papermill": {
     "duration": 0.006231,
     "end_time": "2024-10-14T05:06:45.504500",
     "exception": false,
     "start_time": "2024-10-14T05:06:45.498269",
     "status": "completed"
    },
    "tags": []
   },
   "source": [
    "**This notebook is an exercise in the [Data Cleaning](https://www.kaggle.com/learn/data-cleaning) course.  You can reference the tutorial at [this link](https://www.kaggle.com/alexisbcook/character-encodings).**\n",
    "\n",
    "---\n"
   ]
  },
  {
   "cell_type": "markdown",
   "id": "2d0841bc",
   "metadata": {
    "papermill": {
     "duration": 0.005075,
     "end_time": "2024-10-14T05:06:45.515193",
     "exception": false,
     "start_time": "2024-10-14T05:06:45.510118",
     "status": "completed"
    },
    "tags": []
   },
   "source": [
    "In this exercise, you'll apply what you learned in the **Character encodings** tutorial.\n",
    "\n",
    "# Setup\n",
    "\n",
    "The questions below will give you feedback on your work. Run the following cell to set up the feedback system."
   ]
  },
  {
   "cell_type": "code",
   "execution_count": 1,
   "id": "ba37bae5",
   "metadata": {
    "execution": {
     "iopub.execute_input": "2024-10-14T05:06:45.528156Z",
     "iopub.status.busy": "2024-10-14T05:06:45.527656Z",
     "iopub.status.idle": "2024-10-14T05:06:46.580933Z",
     "shell.execute_reply": "2024-10-14T05:06:46.579163Z"
    },
    "papermill": {
     "duration": 1.063078,
     "end_time": "2024-10-14T05:06:46.583601",
     "exception": false,
     "start_time": "2024-10-14T05:06:45.520523",
     "status": "completed"
    },
    "tags": []
   },
   "outputs": [
    {
     "name": "stdout",
     "output_type": "stream",
     "text": [
      "Setup Complete\n"
     ]
    }
   ],
   "source": [
    "from learntools.core import binder\n",
    "binder.bind(globals())\n",
    "from learntools.data_cleaning.ex4 import *\n",
    "print(\"Setup Complete\")"
   ]
  },
  {
   "cell_type": "markdown",
   "id": "a9738dc5",
   "metadata": {
    "papermill": {
     "duration": 0.005718,
     "end_time": "2024-10-14T05:06:46.595115",
     "exception": false,
     "start_time": "2024-10-14T05:06:46.589397",
     "status": "completed"
    },
    "tags": []
   },
   "source": [
    "# Get our environment set up\n",
    "\n",
    "The first thing we'll need to do is load in the libraries we'll be using."
   ]
  },
  {
   "cell_type": "code",
   "execution_count": 2,
   "id": "2b4795de",
   "metadata": {
    "execution": {
     "iopub.execute_input": "2024-10-14T05:06:46.611428Z",
     "iopub.status.busy": "2024-10-14T05:06:46.610906Z",
     "iopub.status.idle": "2024-10-14T05:06:46.619205Z",
     "shell.execute_reply": "2024-10-14T05:06:46.617749Z"
    },
    "papermill": {
     "duration": 0.020322,
     "end_time": "2024-10-14T05:06:46.622539",
     "exception": false,
     "start_time": "2024-10-14T05:06:46.602217",
     "status": "completed"
    },
    "tags": []
   },
   "outputs": [],
   "source": [
    "# modules we'll use\n",
    "import pandas as pd\n",
    "import numpy as np\n",
    "\n",
    "# helpful character encoding module\n",
    "import charset_normalizer\n",
    "\n",
    "# set seed for reproducibility\n",
    "np.random.seed(0)"
   ]
  },
  {
   "cell_type": "markdown",
   "id": "1b3dbf31",
   "metadata": {
    "papermill": {
     "duration": 0.007298,
     "end_time": "2024-10-14T05:06:46.636199",
     "exception": false,
     "start_time": "2024-10-14T05:06:46.628901",
     "status": "completed"
    },
    "tags": []
   },
   "source": [
    "# 1) What are encodings?\n",
    "\n",
    "You're working with a dataset composed of bytes.  Run the code cell below to print a sample entry."
   ]
  },
  {
   "cell_type": "code",
   "execution_count": 3,
   "id": "c7007506",
   "metadata": {
    "execution": {
     "iopub.execute_input": "2024-10-14T05:06:46.651562Z",
     "iopub.status.busy": "2024-10-14T05:06:46.650998Z",
     "iopub.status.idle": "2024-10-14T05:06:46.658755Z",
     "shell.execute_reply": "2024-10-14T05:06:46.657233Z"
    },
    "papermill": {
     "duration": 0.017983,
     "end_time": "2024-10-14T05:06:46.661403",
     "exception": false,
     "start_time": "2024-10-14T05:06:46.643420",
     "status": "completed"
    },
    "tags": []
   },
   "outputs": [
    {
     "name": "stdout",
     "output_type": "stream",
     "text": [
      "b'\\xa7A\\xa6n'\n",
      "data type: <class 'bytes'>\n"
     ]
    }
   ],
   "source": [
    "sample_entry = b'\\xa7A\\xa6n'\n",
    "print(sample_entry)\n",
    "print('data type:', type(sample_entry))"
   ]
  },
  {
   "cell_type": "markdown",
   "id": "c2b6f846",
   "metadata": {
    "papermill": {
     "duration": 0.006723,
     "end_time": "2024-10-14T05:06:46.674180",
     "exception": false,
     "start_time": "2024-10-14T05:06:46.667457",
     "status": "completed"
    },
    "tags": []
   },
   "source": [
    "You notice that it doesn't use the standard UTF-8 encoding. \n",
    "\n",
    "Use the next code cell to create a variable `new_entry` that changes the encoding from `\"big5-tw\"` to `\"utf-8\"`.  `new_entry` should have the bytes datatype."
   ]
  },
  {
   "cell_type": "code",
   "execution_count": 4,
   "id": "8c7ff635",
   "metadata": {
    "execution": {
     "iopub.execute_input": "2024-10-14T05:06:46.687984Z",
     "iopub.status.busy": "2024-10-14T05:06:46.687450Z",
     "iopub.status.idle": "2024-10-14T05:06:46.700573Z",
     "shell.execute_reply": "2024-10-14T05:06:46.699299Z"
    },
    "papermill": {
     "duration": 0.023299,
     "end_time": "2024-10-14T05:06:46.703379",
     "exception": false,
     "start_time": "2024-10-14T05:06:46.680080",
     "status": "completed"
    },
    "tags": []
   },
   "outputs": [
    {
     "data": {
      "application/javascript": [
       "parent.postMessage({\"jupyterEvent\": \"custom.exercise_interaction\", \"data\": {\"outcomeType\": 4, \"interactionType\": 1, \"questionType\": 1, \"questionId\": \"1_EncodingsIntro\", \"learnToolsVersion\": \"0.3.4\", \"valueTowardsCompletion\": 0.0, \"failureMessage\": \"\", \"exceptionClass\": \"\", \"trace\": \"\"}}, \"*\")"
      ],
      "text/plain": [
       "<IPython.core.display.Javascript object>"
      ]
     },
     "metadata": {},
     "output_type": "display_data"
    },
    {
     "data": {
      "text/markdown": [
       "<span style=\"color:#ccaa33\">Check:</span> When you've updated the starter code, `check()` will tell you whether your code is correct. You need to update the code that creates variable `new_entry`"
      ],
      "text/plain": [
       "Check: When you've updated the starter code, `check()` will tell you whether your code is correct. You need to update the code that creates variable `new_entry`"
      ]
     },
     "metadata": {},
     "output_type": "display_data"
    }
   ],
   "source": [
    "new_entry = ____\n",
    "\n",
    "# Check your answer\n",
    "q1.check()"
   ]
  },
  {
   "cell_type": "code",
   "execution_count": 5,
   "id": "d5116c1c",
   "metadata": {
    "execution": {
     "iopub.execute_input": "2024-10-14T05:06:46.718272Z",
     "iopub.status.busy": "2024-10-14T05:06:46.717750Z",
     "iopub.status.idle": "2024-10-14T05:06:46.723624Z",
     "shell.execute_reply": "2024-10-14T05:06:46.722106Z"
    },
    "papermill": {
     "duration": 0.016717,
     "end_time": "2024-10-14T05:06:46.726464",
     "exception": false,
     "start_time": "2024-10-14T05:06:46.709747",
     "status": "completed"
    },
    "tags": []
   },
   "outputs": [],
   "source": [
    "# Lines below will give you a hint or solution code\n",
    "#q1.hint()\n",
    "#q1.solution()"
   ]
  },
  {
   "cell_type": "markdown",
   "id": "dc75464f",
   "metadata": {
    "papermill": {
     "duration": 0.005906,
     "end_time": "2024-10-14T05:06:46.738830",
     "exception": false,
     "start_time": "2024-10-14T05:06:46.732924",
     "status": "completed"
    },
    "tags": []
   },
   "source": [
    "# 2) Reading in files with encoding problems\n",
    "\n",
    "Use the code cell below to read in this file at path `\"../input/fatal-police-shootings-in-the-us/PoliceKillingsUS.csv\"`.  \n",
    "\n",
    "Figure out what the correct encoding should be and read in the file to a DataFrame `police_killings`."
   ]
  },
  {
   "cell_type": "code",
   "execution_count": 6,
   "id": "935ba0f1",
   "metadata": {
    "execution": {
     "iopub.execute_input": "2024-10-14T05:06:46.755686Z",
     "iopub.status.busy": "2024-10-14T05:06:46.755141Z",
     "iopub.status.idle": "2024-10-14T05:06:46.765252Z",
     "shell.execute_reply": "2024-10-14T05:06:46.764195Z"
    },
    "papermill": {
     "duration": 0.024718,
     "end_time": "2024-10-14T05:06:46.769879",
     "exception": false,
     "start_time": "2024-10-14T05:06:46.745161",
     "status": "completed"
    },
    "tags": []
   },
   "outputs": [
    {
     "data": {
      "application/javascript": [
       "parent.postMessage({\"jupyterEvent\": \"custom.exercise_interaction\", \"data\": {\"outcomeType\": 4, \"interactionType\": 1, \"questionType\": 1, \"questionId\": \"2_ReadIn\", \"learnToolsVersion\": \"0.3.4\", \"valueTowardsCompletion\": 0.0, \"failureMessage\": \"\", \"exceptionClass\": \"\", \"trace\": \"\"}}, \"*\")"
      ],
      "text/plain": [
       "<IPython.core.display.Javascript object>"
      ]
     },
     "metadata": {},
     "output_type": "display_data"
    },
    {
     "data": {
      "text/markdown": [
       "<span style=\"color:#ccaa33\">Check:</span> When you've updated the starter code, `check()` will tell you whether your code is correct. You need to update the code that creates variable `police_killings`"
      ],
      "text/plain": [
       "Check: When you've updated the starter code, `check()` will tell you whether your code is correct. You need to update the code that creates variable `police_killings`"
      ]
     },
     "metadata": {},
     "output_type": "display_data"
    }
   ],
   "source": [
    "# TODO: Load in the DataFrame correctly.\n",
    "police_killings = ____\n",
    "\n",
    "# Check your answer\n",
    "q2.check()"
   ]
  },
  {
   "cell_type": "markdown",
   "id": "9a05e5d4",
   "metadata": {
    "papermill": {
     "duration": 0.006202,
     "end_time": "2024-10-14T05:06:46.782502",
     "exception": false,
     "start_time": "2024-10-14T05:06:46.776300",
     "status": "completed"
    },
    "tags": []
   },
   "source": [
    "Feel free to use any additional code cells for supplemental work.  To get credit for finishing this question, you'll need to run `q2.check()` and get a result of **Correct**."
   ]
  },
  {
   "cell_type": "code",
   "execution_count": 7,
   "id": "528f7391",
   "metadata": {
    "execution": {
     "iopub.execute_input": "2024-10-14T05:06:46.797386Z",
     "iopub.status.busy": "2024-10-14T05:06:46.796887Z",
     "iopub.status.idle": "2024-10-14T05:06:46.802303Z",
     "shell.execute_reply": "2024-10-14T05:06:46.801169Z"
    },
    "papermill": {
     "duration": 0.016141,
     "end_time": "2024-10-14T05:06:46.805030",
     "exception": false,
     "start_time": "2024-10-14T05:06:46.788889",
     "status": "completed"
    },
    "tags": []
   },
   "outputs": [],
   "source": [
    "# (Optional) Use this code cell for any additional work."
   ]
  },
  {
   "cell_type": "code",
   "execution_count": 8,
   "id": "1c1cf54e",
   "metadata": {
    "execution": {
     "iopub.execute_input": "2024-10-14T05:06:46.824740Z",
     "iopub.status.busy": "2024-10-14T05:06:46.824223Z",
     "iopub.status.idle": "2024-10-14T05:06:46.829824Z",
     "shell.execute_reply": "2024-10-14T05:06:46.828517Z"
    },
    "papermill": {
     "duration": 0.018648,
     "end_time": "2024-10-14T05:06:46.832436",
     "exception": false,
     "start_time": "2024-10-14T05:06:46.813788",
     "status": "completed"
    },
    "tags": []
   },
   "outputs": [],
   "source": [
    "# Lines below will give you a hint or solution code\n",
    "#q2.hint()\n",
    "#q2.solution()"
   ]
  },
  {
   "cell_type": "markdown",
   "id": "91a1f191",
   "metadata": {
    "papermill": {
     "duration": 0.006212,
     "end_time": "2024-10-14T05:06:46.845231",
     "exception": false,
     "start_time": "2024-10-14T05:06:46.839019",
     "status": "completed"
    },
    "tags": []
   },
   "source": [
    "# 3) Saving your files with UTF-8 encoding\n",
    "\n",
    "Save a version of the police killings dataset to CSV with UTF-8 encoding.  Your answer will be marked correct after saving this file.  \n",
    "\n",
    "Note: When using the `to_csv()` method, supply only the name of the file (e.g., `\"my_file.csv\"`).  This saves the file at the filepath `\"/kaggle/working/my_file.csv\"`."
   ]
  },
  {
   "cell_type": "code",
   "execution_count": 9,
   "id": "380c20ff",
   "metadata": {
    "execution": {
     "iopub.execute_input": "2024-10-14T05:06:46.861228Z",
     "iopub.status.busy": "2024-10-14T05:06:46.860119Z",
     "iopub.status.idle": "2024-10-14T05:06:46.872237Z",
     "shell.execute_reply": "2024-10-14T05:06:46.870851Z"
    },
    "papermill": {
     "duration": 0.022681,
     "end_time": "2024-10-14T05:06:46.874911",
     "exception": false,
     "start_time": "2024-10-14T05:06:46.852230",
     "status": "completed"
    },
    "tags": []
   },
   "outputs": [
    {
     "data": {
      "application/javascript": [
       "parent.postMessage({\"jupyterEvent\": \"custom.exercise_interaction\", \"data\": {\"outcomeType\": 2, \"failureMessage\": \"Please save a CSV file and run this code cell again to get credit!\", \"interactionType\": 1, \"questionType\": 2, \"questionId\": \"3_SaveCSV\", \"learnToolsVersion\": \"0.3.4\", \"valueTowardsCompletion\": 0.0, \"exceptionClass\": \"\", \"trace\": \"\"}}, \"*\")"
      ],
      "text/plain": [
       "<IPython.core.display.Javascript object>"
      ]
     },
     "metadata": {},
     "output_type": "display_data"
    },
    {
     "data": {
      "text/markdown": [
       "<span style=\"color:#cc3333\">Incorrect:</span> Please save a CSV file and run this code cell again to get credit!"
      ],
      "text/plain": [
       "Incorrect: Please save a CSV file and run this code cell again to get credit!"
      ]
     },
     "metadata": {},
     "output_type": "display_data"
    }
   ],
   "source": [
    "# TODO: Save the police killings dataset to CSV\n",
    "____\n",
    "\n",
    "# Check your answer\n",
    "q3.check()"
   ]
  },
  {
   "cell_type": "code",
   "execution_count": 10,
   "id": "39ddb3be",
   "metadata": {
    "execution": {
     "iopub.execute_input": "2024-10-14T05:06:46.890904Z",
     "iopub.status.busy": "2024-10-14T05:06:46.890380Z",
     "iopub.status.idle": "2024-10-14T05:06:46.895902Z",
     "shell.execute_reply": "2024-10-14T05:06:46.894564Z"
    },
    "papermill": {
     "duration": 0.016553,
     "end_time": "2024-10-14T05:06:46.898436",
     "exception": false,
     "start_time": "2024-10-14T05:06:46.881883",
     "status": "completed"
    },
    "tags": []
   },
   "outputs": [],
   "source": [
    "# Lines below will give you a hint or solution code\n",
    "#q3.hint()\n",
    "#q3.solution()"
   ]
  },
  {
   "cell_type": "markdown",
   "id": "f5881eb2",
   "metadata": {
    "papermill": {
     "duration": 0.006524,
     "end_time": "2024-10-14T05:06:46.911795",
     "exception": false,
     "start_time": "2024-10-14T05:06:46.905271",
     "status": "completed"
    },
    "tags": []
   },
   "source": [
    "# (Optional) More practice\n",
    "\n",
    "Check out [this dataset of files in different character encodings](https://www.kaggle.com/rtatman/character-encoding-examples). Can you read in all the files with their original encodings and them save them out as UTF-8 files?\n",
    "\n",
    "If you have a file that's in UTF-8 but has just a couple of weird-looking characters in it, you can try out the [ftfy module](https://ftfy.readthedocs.io/en/latest/#) and see if it helps. \n",
    "\n",
    "# Keep going\n",
    "\n",
    "In the final lesson, learn how to [**clean up inconsistent text entries**](https://www.kaggle.com/alexisbcook/inconsistent-data-entry) in your dataset."
   ]
  },
  {
   "cell_type": "markdown",
   "id": "b0587836",
   "metadata": {
    "papermill": {
     "duration": 0.006435,
     "end_time": "2024-10-14T05:06:46.925022",
     "exception": false,
     "start_time": "2024-10-14T05:06:46.918587",
     "status": "completed"
    },
    "tags": []
   },
   "source": [
    "---\n",
    "\n",
    "\n",
    "\n",
    "\n",
    "*Have questions or comments? Visit the [course discussion forum](https://www.kaggle.com/learn/data-cleaning/discussion) to chat with other learners.*"
   ]
  }
 ],
 "metadata": {
  "kaggle": {
   "accelerator": "none",
   "dataSources": [
    {
     "datasetId": 2647,
     "sourceId": 4395,
     "sourceType": "datasetVersion"
    }
   ],
   "isGpuEnabled": false,
   "isInternetEnabled": false,
   "language": "python",
   "sourceType": "notebook"
  },
  "kernelspec": {
   "display_name": "Python 3",
   "language": "python",
   "name": "python3"
  },
  "language_info": {
   "codemirror_mode": {
    "name": "ipython",
    "version": 3
   },
   "file_extension": ".py",
   "mimetype": "text/x-python",
   "name": "python",
   "nbconvert_exporter": "python",
   "pygments_lexer": "ipython3",
   "version": "3.10.14"
  },
  "papermill": {
   "default_parameters": {},
   "duration": 5.440781,
   "end_time": "2024-10-14T05:06:47.559699",
   "environment_variables": {},
   "exception": null,
   "input_path": "__notebook__.ipynb",
   "output_path": "__notebook__.ipynb",
   "parameters": {},
   "start_time": "2024-10-14T05:06:42.118918",
   "version": "2.6.0"
  }
 },
 "nbformat": 4,
 "nbformat_minor": 5
}
