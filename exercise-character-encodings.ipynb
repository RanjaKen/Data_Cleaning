{
 "cells": [
  {
   "cell_type": "markdown",
   "id": "716b0dd1",
   "metadata": {
    "papermill": {
     "duration": 0.005273,
     "end_time": "2024-10-14T05:10:17.954782",
     "exception": false,
     "start_time": "2024-10-14T05:10:17.949509",
     "status": "completed"
    },
    "tags": []
   },
   "source": [
    "**This notebook is an exercise in the [Data Cleaning](https://www.kaggle.com/learn/data-cleaning) course.  You can reference the tutorial at [this link](https://www.kaggle.com/alexisbcook/character-encodings).**\n",
    "\n",
    "---\n"
   ]
  },
  {
   "cell_type": "markdown",
   "id": "0494c277",
   "metadata": {
    "papermill": {
     "duration": 0.004233,
     "end_time": "2024-10-14T05:10:17.963787",
     "exception": false,
     "start_time": "2024-10-14T05:10:17.959554",
     "status": "completed"
    },
    "tags": []
   },
   "source": [
    "In this exercise, you'll apply what you learned in the **Character encodings** tutorial.\n",
    "\n",
    "# Setup\n",
    "\n",
    "The questions below will give you feedback on your work. Run the following cell to set up the feedback system."
   ]
  },
  {
   "cell_type": "code",
   "execution_count": 1,
   "id": "e4cdc625",
   "metadata": {
    "execution": {
     "iopub.execute_input": "2024-10-14T05:10:17.976854Z",
     "iopub.status.busy": "2024-10-14T05:10:17.976423Z",
     "iopub.status.idle": "2024-10-14T05:10:19.081018Z",
     "shell.execute_reply": "2024-10-14T05:10:19.079801Z"
    },
    "papermill": {
     "duration": 1.115043,
     "end_time": "2024-10-14T05:10:19.083793",
     "exception": false,
     "start_time": "2024-10-14T05:10:17.968750",
     "status": "completed"
    },
    "tags": []
   },
   "outputs": [
    {
     "name": "stdout",
     "output_type": "stream",
     "text": [
      "Setup Complete\n"
     ]
    }
   ],
   "source": [
    "from learntools.core import binder\n",
    "binder.bind(globals())\n",
    "from learntools.data_cleaning.ex4 import *\n",
    "print(\"Setup Complete\")"
   ]
  },
  {
   "cell_type": "markdown",
   "id": "a3b34057",
   "metadata": {
    "papermill": {
     "duration": 0.004615,
     "end_time": "2024-10-14T05:10:19.093337",
     "exception": false,
     "start_time": "2024-10-14T05:10:19.088722",
     "status": "completed"
    },
    "tags": []
   },
   "source": [
    "# Get our environment set up\n",
    "\n",
    "The first thing we'll need to do is load in the libraries we'll be using."
   ]
  },
  {
   "cell_type": "code",
   "execution_count": 2,
   "id": "d8dab04c",
   "metadata": {
    "execution": {
     "iopub.execute_input": "2024-10-14T05:10:19.104422Z",
     "iopub.status.busy": "2024-10-14T05:10:19.103976Z",
     "iopub.status.idle": "2024-10-14T05:10:19.109324Z",
     "shell.execute_reply": "2024-10-14T05:10:19.108253Z"
    },
    "papermill": {
     "duration": 0.013562,
     "end_time": "2024-10-14T05:10:19.111539",
     "exception": false,
     "start_time": "2024-10-14T05:10:19.097977",
     "status": "completed"
    },
    "tags": []
   },
   "outputs": [],
   "source": [
    "# modules we'll use\n",
    "import pandas as pd\n",
    "import numpy as np\n",
    "\n",
    "# helpful character encoding module\n",
    "import charset_normalizer\n",
    "\n",
    "# set seed for reproducibility\n",
    "np.random.seed(0)"
   ]
  },
  {
   "cell_type": "markdown",
   "id": "5b002530",
   "metadata": {
    "papermill": {
     "duration": 0.004563,
     "end_time": "2024-10-14T05:10:19.120869",
     "exception": false,
     "start_time": "2024-10-14T05:10:19.116306",
     "status": "completed"
    },
    "tags": []
   },
   "source": [
    "# 1) What are encodings?\n",
    "\n",
    "You're working with a dataset composed of bytes.  Run the code cell below to print a sample entry."
   ]
  },
  {
   "cell_type": "code",
   "execution_count": 3,
   "id": "70eb2a04",
   "metadata": {
    "execution": {
     "iopub.execute_input": "2024-10-14T05:10:19.132226Z",
     "iopub.status.busy": "2024-10-14T05:10:19.131784Z",
     "iopub.status.idle": "2024-10-14T05:10:19.137546Z",
     "shell.execute_reply": "2024-10-14T05:10:19.136430Z"
    },
    "papermill": {
     "duration": 0.014262,
     "end_time": "2024-10-14T05:10:19.139790",
     "exception": false,
     "start_time": "2024-10-14T05:10:19.125528",
     "status": "completed"
    },
    "tags": []
   },
   "outputs": [
    {
     "name": "stdout",
     "output_type": "stream",
     "text": [
      "b'\\xa7A\\xa6n'\n",
      "data type: <class 'bytes'>\n"
     ]
    }
   ],
   "source": [
    "sample_entry = b'\\xa7A\\xa6n'\n",
    "print(sample_entry)\n",
    "print('data type:', type(sample_entry))"
   ]
  },
  {
   "cell_type": "markdown",
   "id": "199cc663",
   "metadata": {
    "papermill": {
     "duration": 0.005658,
     "end_time": "2024-10-14T05:10:19.150691",
     "exception": false,
     "start_time": "2024-10-14T05:10:19.145033",
     "status": "completed"
    },
    "tags": []
   },
   "source": [
    "You notice that it doesn't use the standard UTF-8 encoding. \n",
    "\n",
    "Use the next code cell to create a variable `new_entry` that changes the encoding from `\"big5-tw\"` to `\"utf-8\"`.  `new_entry` should have the bytes datatype."
   ]
  },
  {
   "cell_type": "code",
   "execution_count": 4,
   "id": "8e9ef861",
   "metadata": {
    "execution": {
     "iopub.execute_input": "2024-10-14T05:10:19.161850Z",
     "iopub.status.busy": "2024-10-14T05:10:19.161447Z",
     "iopub.status.idle": "2024-10-14T05:10:19.171095Z",
     "shell.execute_reply": "2024-10-14T05:10:19.170138Z"
    },
    "papermill": {
     "duration": 0.018082,
     "end_time": "2024-10-14T05:10:19.173501",
     "exception": false,
     "start_time": "2024-10-14T05:10:19.155419",
     "status": "completed"
    },
    "tags": []
   },
   "outputs": [
    {
     "data": {
      "application/javascript": [
       "parent.postMessage({\"jupyterEvent\": \"custom.exercise_interaction\", \"data\": {\"outcomeType\": 1, \"valueTowardsCompletion\": 0.3333333333333333, \"interactionType\": 1, \"questionType\": 1, \"questionId\": \"1_EncodingsIntro\", \"learnToolsVersion\": \"0.3.4\", \"failureMessage\": \"\", \"exceptionClass\": \"\", \"trace\": \"\"}}, \"*\")"
      ],
      "text/plain": [
       "<IPython.core.display.Javascript object>"
      ]
     },
     "metadata": {},
     "output_type": "display_data"
    },
    {
     "data": {
      "text/markdown": [
       "<span style=\"color:#33cc33\">Correct</span>"
      ],
      "text/plain": [
       "Correct"
      ]
     },
     "metadata": {},
     "output_type": "display_data"
    }
   ],
   "source": [
    "bef = sample_entry.decode(\"big5-tw\")\n",
    "new_entry = bef.encode()\n",
    "\n",
    "# Check your answer\n",
    "q1.check()"
   ]
  },
  {
   "cell_type": "code",
   "execution_count": 5,
   "id": "f7898d74",
   "metadata": {
    "execution": {
     "iopub.execute_input": "2024-10-14T05:10:19.185449Z",
     "iopub.status.busy": "2024-10-14T05:10:19.185018Z",
     "iopub.status.idle": "2024-10-14T05:10:19.197752Z",
     "shell.execute_reply": "2024-10-14T05:10:19.196698Z"
    },
    "papermill": {
     "duration": 0.021358,
     "end_time": "2024-10-14T05:10:19.199915",
     "exception": false,
     "start_time": "2024-10-14T05:10:19.178557",
     "status": "completed"
    },
    "tags": []
   },
   "outputs": [
    {
     "data": {
      "application/javascript": [
       "parent.postMessage({\"jupyterEvent\": \"custom.exercise_interaction\", \"data\": {\"interactionType\": 2, \"questionType\": 1, \"questionId\": \"1_EncodingsIntro\", \"learnToolsVersion\": \"0.3.4\", \"valueTowardsCompletion\": 0.0, \"failureMessage\": \"\", \"exceptionClass\": \"\", \"trace\": \"\", \"outcomeType\": 4}}, \"*\")"
      ],
      "text/plain": [
       "<IPython.core.display.Javascript object>"
      ]
     },
     "metadata": {},
     "output_type": "display_data"
    },
    {
     "data": {
      "text/markdown": [
       "<span style=\"color:#3366cc\">Hint:</span> Try using `.decode()` to get the string, then `.encode()` to get the bytes representation, encoded in UTF-8."
      ],
      "text/plain": [
       "Hint: Try using `.decode()` to get the string, then `.encode()` to get the bytes representation, encoded in UTF-8."
      ]
     },
     "metadata": {},
     "output_type": "display_data"
    },
    {
     "data": {
      "application/javascript": [
       "parent.postMessage({\"jupyterEvent\": \"custom.exercise_interaction\", \"data\": {\"interactionType\": 3, \"questionType\": 1, \"questionId\": \"1_EncodingsIntro\", \"learnToolsVersion\": \"0.3.4\", \"valueTowardsCompletion\": 0.0, \"failureMessage\": \"\", \"exceptionClass\": \"\", \"trace\": \"\", \"outcomeType\": 4}}, \"*\")"
      ],
      "text/plain": [
       "<IPython.core.display.Javascript object>"
      ]
     },
     "metadata": {},
     "output_type": "display_data"
    },
    {
     "data": {
      "text/markdown": [
       "<span style=\"color:#33cc99\">Solution:</span> \n",
       "```python\n",
       "before = sample_entry.decode(\"big5-tw\")\n",
       "new_entry = before.encode()\n",
       "\n",
       "```"
      ],
      "text/plain": [
       "Solution: \n",
       "```python\n",
       "before = sample_entry.decode(\"big5-tw\")\n",
       "new_entry = before.encode()\n",
       "\n",
       "```"
      ]
     },
     "metadata": {},
     "output_type": "display_data"
    }
   ],
   "source": [
    "# Lines below will give you a hint or solution code\n",
    "q1.hint()\n",
    "q1.solution()"
   ]
  },
  {
   "cell_type": "markdown",
   "id": "6a6de2f2",
   "metadata": {
    "papermill": {
     "duration": 0.005238,
     "end_time": "2024-10-14T05:10:19.210720",
     "exception": false,
     "start_time": "2024-10-14T05:10:19.205482",
     "status": "completed"
    },
    "tags": []
   },
   "source": [
    "# 2) Reading in files with encoding problems\n",
    "\n",
    "Use the code cell below to read in this file at path `\"../input/fatal-police-shootings-in-the-us/PoliceKillingsUS.csv\"`.  \n",
    "\n",
    "Figure out what the correct encoding should be and read in the file to a DataFrame `police_killings`."
   ]
  },
  {
   "cell_type": "code",
   "execution_count": 6,
   "id": "0091c151",
   "metadata": {
    "execution": {
     "iopub.execute_input": "2024-10-14T05:10:19.223974Z",
     "iopub.status.busy": "2024-10-14T05:10:19.222983Z",
     "iopub.status.idle": "2024-10-14T05:10:19.232039Z",
     "shell.execute_reply": "2024-10-14T05:10:19.230913Z"
    },
    "papermill": {
     "duration": 0.018181,
     "end_time": "2024-10-14T05:10:19.234414",
     "exception": false,
     "start_time": "2024-10-14T05:10:19.216233",
     "status": "completed"
    },
    "tags": []
   },
   "outputs": [
    {
     "data": {
      "application/javascript": [
       "parent.postMessage({\"jupyterEvent\": \"custom.exercise_interaction\", \"data\": {\"outcomeType\": 4, \"interactionType\": 1, \"questionType\": 1, \"questionId\": \"2_ReadIn\", \"learnToolsVersion\": \"0.3.4\", \"valueTowardsCompletion\": 0.0, \"failureMessage\": \"\", \"exceptionClass\": \"\", \"trace\": \"\"}}, \"*\")"
      ],
      "text/plain": [
       "<IPython.core.display.Javascript object>"
      ]
     },
     "metadata": {},
     "output_type": "display_data"
    },
    {
     "data": {
      "text/markdown": [
       "<span style=\"color:#ccaa33\">Check:</span> When you've updated the starter code, `check()` will tell you whether your code is correct. You need to update the code that creates variable `police_killings`"
      ],
      "text/plain": [
       "Check: When you've updated the starter code, `check()` will tell you whether your code is correct. You need to update the code that creates variable `police_killings`"
      ]
     },
     "metadata": {},
     "output_type": "display_data"
    }
   ],
   "source": [
    "# TODO: Load in the DataFrame correctly.\n",
    "police_killings = ____\n",
    "\n",
    "# Check your answer\n",
    "q2.check()"
   ]
  },
  {
   "cell_type": "markdown",
   "id": "0dbe5e21",
   "metadata": {
    "papermill": {
     "duration": 0.005386,
     "end_time": "2024-10-14T05:10:19.245551",
     "exception": false,
     "start_time": "2024-10-14T05:10:19.240165",
     "status": "completed"
    },
    "tags": []
   },
   "source": [
    "Feel free to use any additional code cells for supplemental work.  To get credit for finishing this question, you'll need to run `q2.check()` and get a result of **Correct**."
   ]
  },
  {
   "cell_type": "code",
   "execution_count": 7,
   "id": "28d6129f",
   "metadata": {
    "execution": {
     "iopub.execute_input": "2024-10-14T05:10:19.258455Z",
     "iopub.status.busy": "2024-10-14T05:10:19.258020Z",
     "iopub.status.idle": "2024-10-14T05:10:19.263105Z",
     "shell.execute_reply": "2024-10-14T05:10:19.262009Z"
    },
    "papermill": {
     "duration": 0.013981,
     "end_time": "2024-10-14T05:10:19.265260",
     "exception": false,
     "start_time": "2024-10-14T05:10:19.251279",
     "status": "completed"
    },
    "tags": []
   },
   "outputs": [],
   "source": [
    "# (Optional) Use this code cell for any additional work."
   ]
  },
  {
   "cell_type": "code",
   "execution_count": 8,
   "id": "f2cae9ed",
   "metadata": {
    "execution": {
     "iopub.execute_input": "2024-10-14T05:10:19.278098Z",
     "iopub.status.busy": "2024-10-14T05:10:19.277716Z",
     "iopub.status.idle": "2024-10-14T05:10:19.282244Z",
     "shell.execute_reply": "2024-10-14T05:10:19.281163Z"
    },
    "papermill": {
     "duration": 0.013689,
     "end_time": "2024-10-14T05:10:19.284598",
     "exception": false,
     "start_time": "2024-10-14T05:10:19.270909",
     "status": "completed"
    },
    "tags": []
   },
   "outputs": [],
   "source": [
    "# Lines below will give you a hint or solution code\n",
    "#q2.hint()\n",
    "#q2.solution()"
   ]
  },
  {
   "cell_type": "markdown",
   "id": "1d256951",
   "metadata": {
    "papermill": {
     "duration": 0.005652,
     "end_time": "2024-10-14T05:10:19.296095",
     "exception": false,
     "start_time": "2024-10-14T05:10:19.290443",
     "status": "completed"
    },
    "tags": []
   },
   "source": [
    "# 3) Saving your files with UTF-8 encoding\n",
    "\n",
    "Save a version of the police killings dataset to CSV with UTF-8 encoding.  Your answer will be marked correct after saving this file.  \n",
    "\n",
    "Note: When using the `to_csv()` method, supply only the name of the file (e.g., `\"my_file.csv\"`).  This saves the file at the filepath `\"/kaggle/working/my_file.csv\"`."
   ]
  },
  {
   "cell_type": "code",
   "execution_count": 9,
   "id": "ce7cd20e",
   "metadata": {
    "execution": {
     "iopub.execute_input": "2024-10-14T05:10:19.309114Z",
     "iopub.status.busy": "2024-10-14T05:10:19.308654Z",
     "iopub.status.idle": "2024-10-14T05:10:19.317337Z",
     "shell.execute_reply": "2024-10-14T05:10:19.316385Z"
    },
    "papermill": {
     "duration": 0.017864,
     "end_time": "2024-10-14T05:10:19.319574",
     "exception": false,
     "start_time": "2024-10-14T05:10:19.301710",
     "status": "completed"
    },
    "tags": []
   },
   "outputs": [
    {
     "data": {
      "application/javascript": [
       "parent.postMessage({\"jupyterEvent\": \"custom.exercise_interaction\", \"data\": {\"outcomeType\": 2, \"failureMessage\": \"Please save a CSV file and run this code cell again to get credit!\", \"interactionType\": 1, \"questionType\": 2, \"questionId\": \"3_SaveCSV\", \"learnToolsVersion\": \"0.3.4\", \"valueTowardsCompletion\": 0.0, \"exceptionClass\": \"\", \"trace\": \"\"}}, \"*\")"
      ],
      "text/plain": [
       "<IPython.core.display.Javascript object>"
      ]
     },
     "metadata": {},
     "output_type": "display_data"
    },
    {
     "data": {
      "text/markdown": [
       "<span style=\"color:#cc3333\">Incorrect:</span> Please save a CSV file and run this code cell again to get credit!"
      ],
      "text/plain": [
       "Incorrect: Please save a CSV file and run this code cell again to get credit!"
      ]
     },
     "metadata": {},
     "output_type": "display_data"
    }
   ],
   "source": [
    "# TODO: Save the police killings dataset to CSV\n",
    "____\n",
    "\n",
    "# Check your answer\n",
    "q3.check()"
   ]
  },
  {
   "cell_type": "code",
   "execution_count": 10,
   "id": "d3fe9a78",
   "metadata": {
    "execution": {
     "iopub.execute_input": "2024-10-14T05:10:19.334146Z",
     "iopub.status.busy": "2024-10-14T05:10:19.333057Z",
     "iopub.status.idle": "2024-10-14T05:10:19.337997Z",
     "shell.execute_reply": "2024-10-14T05:10:19.336871Z"
    },
    "papermill": {
     "duration": 0.014573,
     "end_time": "2024-10-14T05:10:19.340271",
     "exception": false,
     "start_time": "2024-10-14T05:10:19.325698",
     "status": "completed"
    },
    "tags": []
   },
   "outputs": [],
   "source": [
    "# Lines below will give you a hint or solution code\n",
    "#q3.hint()\n",
    "#q3.solution()"
   ]
  },
  {
   "cell_type": "markdown",
   "id": "f1c51bb6",
   "metadata": {
    "papermill": {
     "duration": 0.005864,
     "end_time": "2024-10-14T05:10:19.352509",
     "exception": false,
     "start_time": "2024-10-14T05:10:19.346645",
     "status": "completed"
    },
    "tags": []
   },
   "source": [
    "# (Optional) More practice\n",
    "\n",
    "Check out [this dataset of files in different character encodings](https://www.kaggle.com/rtatman/character-encoding-examples). Can you read in all the files with their original encodings and them save them out as UTF-8 files?\n",
    "\n",
    "If you have a file that's in UTF-8 but has just a couple of weird-looking characters in it, you can try out the [ftfy module](https://ftfy.readthedocs.io/en/latest/#) and see if it helps. \n",
    "\n",
    "# Keep going\n",
    "\n",
    "In the final lesson, learn how to [**clean up inconsistent text entries**](https://www.kaggle.com/alexisbcook/inconsistent-data-entry) in your dataset."
   ]
  },
  {
   "cell_type": "markdown",
   "id": "b048b4c4",
   "metadata": {
    "papermill": {
     "duration": 0.005731,
     "end_time": "2024-10-14T05:10:19.364195",
     "exception": false,
     "start_time": "2024-10-14T05:10:19.358464",
     "status": "completed"
    },
    "tags": []
   },
   "source": [
    "---\n",
    "\n",
    "\n",
    "\n",
    "\n",
    "*Have questions or comments? Visit the [course discussion forum](https://www.kaggle.com/learn/data-cleaning/discussion) to chat with other learners.*"
   ]
  }
 ],
 "metadata": {
  "kaggle": {
   "accelerator": "none",
   "dataSources": [
    {
     "datasetId": 2647,
     "sourceId": 4395,
     "sourceType": "datasetVersion"
    }
   ],
   "isGpuEnabled": false,
   "isInternetEnabled": false,
   "language": "python",
   "sourceType": "notebook"
  },
  "kernelspec": {
   "display_name": "Python 3",
   "language": "python",
   "name": "python3"
  },
  "language_info": {
   "codemirror_mode": {
    "name": "ipython",
    "version": 3
   },
   "file_extension": ".py",
   "mimetype": "text/x-python",
   "name": "python",
   "nbconvert_exporter": "python",
   "pygments_lexer": "ipython3",
   "version": "3.10.14"
  },
  "papermill": {
   "default_parameters": {},
   "duration": 4.865807,
   "end_time": "2024-10-14T05:10:19.890954",
   "environment_variables": {},
   "exception": null,
   "input_path": "__notebook__.ipynb",
   "output_path": "__notebook__.ipynb",
   "parameters": {},
   "start_time": "2024-10-14T05:10:15.025147",
   "version": "2.6.0"
  }
 },
 "nbformat": 4,
 "nbformat_minor": 5
}
