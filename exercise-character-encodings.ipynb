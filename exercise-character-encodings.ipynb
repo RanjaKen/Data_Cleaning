{
 "cells": [
  {
   "cell_type": "markdown",
   "id": "7624d91b",
   "metadata": {
    "papermill": {
     "duration": 0.007375,
     "end_time": "2024-10-17T07:37:46.010321",
     "exception": false,
     "start_time": "2024-10-17T07:37:46.002946",
     "status": "completed"
    },
    "tags": []
   },
   "source": [
    "**This notebook is an exercise in the [Data Cleaning](https://www.kaggle.com/learn/data-cleaning) course.  You can reference the tutorial at [this link](https://www.kaggle.com/alexisbcook/character-encodings).**\n",
    "\n",
    "---\n"
   ]
  },
  {
   "cell_type": "markdown",
   "id": "92b34cc9",
   "metadata": {
    "papermill": {
     "duration": 0.006139,
     "end_time": "2024-10-17T07:37:46.023153",
     "exception": false,
     "start_time": "2024-10-17T07:37:46.017014",
     "status": "completed"
    },
    "tags": []
   },
   "source": [
    "In this exercise, you'll apply what you learned in the **Character encodings** tutorial.\n",
    "\n",
    "# Setup\n",
    "\n",
    "The questions below will give you feedback on your work. Run the following cell to set up the feedback system."
   ]
  },
  {
   "cell_type": "code",
   "execution_count": 1,
   "id": "8fd367d3",
   "metadata": {
    "execution": {
     "iopub.execute_input": "2024-10-17T07:37:46.038535Z",
     "iopub.status.busy": "2024-10-17T07:37:46.037937Z",
     "iopub.status.idle": "2024-10-17T07:37:47.321839Z",
     "shell.execute_reply": "2024-10-17T07:37:47.320175Z"
    },
    "papermill": {
     "duration": 1.295644,
     "end_time": "2024-10-17T07:37:47.325227",
     "exception": false,
     "start_time": "2024-10-17T07:37:46.029583",
     "status": "completed"
    },
    "tags": []
   },
   "outputs": [
    {
     "name": "stdout",
     "output_type": "stream",
     "text": [
      "Setup Complete\n"
     ]
    }
   ],
   "source": [
    "from learntools.core import binder\n",
    "binder.bind(globals())\n",
    "from learntools.data_cleaning.ex4 import *\n",
    "print(\"Setup Complete\")"
   ]
  },
  {
   "cell_type": "markdown",
   "id": "71ae1a15",
   "metadata": {
    "papermill": {
     "duration": 0.006928,
     "end_time": "2024-10-17T07:37:47.339848",
     "exception": false,
     "start_time": "2024-10-17T07:37:47.332920",
     "status": "completed"
    },
    "tags": []
   },
   "source": [
    "# Get our environment set up\n",
    "\n",
    "The first thing we'll need to do is load in the libraries we'll be using."
   ]
  },
  {
   "cell_type": "code",
   "execution_count": 2,
   "id": "e301f330",
   "metadata": {
    "execution": {
     "iopub.execute_input": "2024-10-17T07:37:47.356910Z",
     "iopub.status.busy": "2024-10-17T07:37:47.356075Z",
     "iopub.status.idle": "2024-10-17T07:37:47.362335Z",
     "shell.execute_reply": "2024-10-17T07:37:47.361147Z"
    },
    "papermill": {
     "duration": 0.017877,
     "end_time": "2024-10-17T07:37:47.365221",
     "exception": false,
     "start_time": "2024-10-17T07:37:47.347344",
     "status": "completed"
    },
    "tags": []
   },
   "outputs": [],
   "source": [
    "# modules we'll use\n",
    "import pandas as pd\n",
    "import numpy as np\n",
    "\n",
    "# helpful character encoding module\n",
    "import charset_normalizer\n",
    "\n",
    "# set seed for reproducibility\n",
    "np.random.seed(0)"
   ]
  },
  {
   "cell_type": "markdown",
   "id": "2b7db230",
   "metadata": {
    "papermill": {
     "duration": 0.006463,
     "end_time": "2024-10-17T07:37:47.378574",
     "exception": false,
     "start_time": "2024-10-17T07:37:47.372111",
     "status": "completed"
    },
    "tags": []
   },
   "source": [
    "# 1) What are encodings?\n",
    "\n",
    "You're working with a dataset composed of bytes.  Run the code cell below to print a sample entry."
   ]
  },
  {
   "cell_type": "code",
   "execution_count": 3,
   "id": "0cbb4bf5",
   "metadata": {
    "execution": {
     "iopub.execute_input": "2024-10-17T07:37:47.393884Z",
     "iopub.status.busy": "2024-10-17T07:37:47.393406Z",
     "iopub.status.idle": "2024-10-17T07:37:47.400251Z",
     "shell.execute_reply": "2024-10-17T07:37:47.398823Z"
    },
    "papermill": {
     "duration": 0.017954,
     "end_time": "2024-10-17T07:37:47.403277",
     "exception": false,
     "start_time": "2024-10-17T07:37:47.385323",
     "status": "completed"
    },
    "tags": []
   },
   "outputs": [
    {
     "name": "stdout",
     "output_type": "stream",
     "text": [
      "b'\\xa7A\\xa6n'\n",
      "data type: <class 'bytes'>\n"
     ]
    }
   ],
   "source": [
    "sample_entry = b'\\xa7A\\xa6n'\n",
    "print(sample_entry)\n",
    "print('data type:', type(sample_entry))"
   ]
  },
  {
   "cell_type": "markdown",
   "id": "c344cd3d",
   "metadata": {
    "papermill": {
     "duration": 0.007837,
     "end_time": "2024-10-17T07:37:47.417974",
     "exception": false,
     "start_time": "2024-10-17T07:37:47.410137",
     "status": "completed"
    },
    "tags": []
   },
   "source": [
    "You notice that it doesn't use the standard UTF-8 encoding. \n",
    "\n",
    "Use the next code cell to create a variable `new_entry` that changes the encoding from `\"big5-tw\"` to `\"utf-8\"`.  `new_entry` should have the bytes datatype."
   ]
  },
  {
   "cell_type": "code",
   "execution_count": 4,
   "id": "a334f0ae",
   "metadata": {
    "execution": {
     "iopub.execute_input": "2024-10-17T07:37:47.433732Z",
     "iopub.status.busy": "2024-10-17T07:37:47.433258Z",
     "iopub.status.idle": "2024-10-17T07:37:47.445460Z",
     "shell.execute_reply": "2024-10-17T07:37:47.444115Z"
    },
    "papermill": {
     "duration": 0.023873,
     "end_time": "2024-10-17T07:37:47.448779",
     "exception": false,
     "start_time": "2024-10-17T07:37:47.424906",
     "status": "completed"
    },
    "tags": []
   },
   "outputs": [
    {
     "data": {
      "application/javascript": [
       "parent.postMessage({\"jupyterEvent\": \"custom.exercise_interaction\", \"data\": {\"outcomeType\": 1, \"valueTowardsCompletion\": 0.3333333333333333, \"interactionType\": 1, \"questionType\": 1, \"questionId\": \"1_EncodingsIntro\", \"learnToolsVersion\": \"0.3.4\", \"failureMessage\": \"\", \"exceptionClass\": \"\", \"trace\": \"\"}}, \"*\")"
      ],
      "text/plain": [
       "<IPython.core.display.Javascript object>"
      ]
     },
     "metadata": {},
     "output_type": "display_data"
    },
    {
     "data": {
      "text/markdown": [
       "<span style=\"color:#33cc33\">Correct</span>"
      ],
      "text/plain": [
       "Correct"
      ]
     },
     "metadata": {},
     "output_type": "display_data"
    }
   ],
   "source": [
    "bef = sample_entry.decode(\"big5-tw\")\n",
    "new_entry = bef.encode()\n",
    "\n",
    "# Check your answer\n",
    "q1.check()"
   ]
  },
  {
   "cell_type": "code",
   "execution_count": 5,
   "id": "a96d9bf2",
   "metadata": {
    "execution": {
     "iopub.execute_input": "2024-10-17T07:37:47.465670Z",
     "iopub.status.busy": "2024-10-17T07:37:47.465157Z",
     "iopub.status.idle": "2024-10-17T07:37:47.475816Z",
     "shell.execute_reply": "2024-10-17T07:37:47.474441Z"
    },
    "papermill": {
     "duration": 0.022273,
     "end_time": "2024-10-17T07:37:47.478328",
     "exception": false,
     "start_time": "2024-10-17T07:37:47.456055",
     "status": "completed"
    },
    "tags": []
   },
   "outputs": [
    {
     "data": {
      "application/javascript": [
       "parent.postMessage({\"jupyterEvent\": \"custom.exercise_interaction\", \"data\": {\"interactionType\": 2, \"questionType\": 1, \"questionId\": \"1_EncodingsIntro\", \"learnToolsVersion\": \"0.3.4\", \"valueTowardsCompletion\": 0.0, \"failureMessage\": \"\", \"exceptionClass\": \"\", \"trace\": \"\", \"outcomeType\": 4}}, \"*\")"
      ],
      "text/plain": [
       "<IPython.core.display.Javascript object>"
      ]
     },
     "metadata": {},
     "output_type": "display_data"
    },
    {
     "data": {
      "text/markdown": [
       "<span style=\"color:#3366cc\">Hint:</span> Try using `.decode()` to get the string, then `.encode()` to get the bytes representation, encoded in UTF-8."
      ],
      "text/plain": [
       "Hint: Try using `.decode()` to get the string, then `.encode()` to get the bytes representation, encoded in UTF-8."
      ]
     },
     "metadata": {},
     "output_type": "display_data"
    }
   ],
   "source": [
    "# Lines below will give you a hint or solution code\n",
    "q1.hint()\n",
    "#q1.solution()"
   ]
  },
  {
   "cell_type": "markdown",
   "id": "4e82fa6b",
   "metadata": {
    "papermill": {
     "duration": 0.007627,
     "end_time": "2024-10-17T07:37:47.493478",
     "exception": false,
     "start_time": "2024-10-17T07:37:47.485851",
     "status": "completed"
    },
    "tags": []
   },
   "source": [
    "# 2) Reading in files with encoding problems\n",
    "\n",
    "Use the code cell below to read in this file at path `\"../input/fatal-police-shootings-in-the-us/PoliceKillingsUS.csv\"`.  \n",
    "\n",
    "Figure out what the correct encoding should be and read in the file to a DataFrame `police_killings`."
   ]
  },
  {
   "cell_type": "code",
   "execution_count": 6,
   "id": "cb3f9394",
   "metadata": {
    "execution": {
     "iopub.execute_input": "2024-10-17T07:37:47.512179Z",
     "iopub.status.busy": "2024-10-17T07:37:47.511084Z",
     "iopub.status.idle": "2024-10-17T07:37:47.542319Z",
     "shell.execute_reply": "2024-10-17T07:37:47.540699Z"
    },
    "papermill": {
     "duration": 0.043675,
     "end_time": "2024-10-17T07:37:47.545142",
     "exception": false,
     "start_time": "2024-10-17T07:37:47.501467",
     "status": "completed"
    },
    "tags": []
   },
   "outputs": [
    {
     "data": {
      "application/javascript": [
       "parent.postMessage({\"jupyterEvent\": \"custom.exercise_interaction\", \"data\": {\"outcomeType\": 1, \"valueTowardsCompletion\": 0.3333333333333333, \"interactionType\": 1, \"questionType\": 1, \"questionId\": \"2_ReadIn\", \"learnToolsVersion\": \"0.3.4\", \"failureMessage\": \"\", \"exceptionClass\": \"\", \"trace\": \"\"}}, \"*\")"
      ],
      "text/plain": [
       "<IPython.core.display.Javascript object>"
      ]
     },
     "metadata": {},
     "output_type": "display_data"
    },
    {
     "data": {
      "text/markdown": [
       "<span style=\"color:#33cc33\">Correct</span>"
      ],
      "text/plain": [
       "Correct"
      ]
     },
     "metadata": {},
     "output_type": "display_data"
    }
   ],
   "source": [
    "# TODO: Load in the DataFrame correctly.\n",
    "police_killings = pd.read_csv(\"../input/fatal-police-shootings-in-the-us/PoliceKillingsUS.csv\", encoding=\"Windows-1252\")\n",
    "\n",
    "# Check your answer\n",
    "q2.check()"
   ]
  },
  {
   "cell_type": "markdown",
   "id": "41ba8291",
   "metadata": {
    "papermill": {
     "duration": 0.007347,
     "end_time": "2024-10-17T07:37:47.560388",
     "exception": false,
     "start_time": "2024-10-17T07:37:47.553041",
     "status": "completed"
    },
    "tags": []
   },
   "source": [
    "Feel free to use any additional code cells for supplemental work.  To get credit for finishing this question, you'll need to run `q2.check()` and get a result of **Correct**."
   ]
  },
  {
   "cell_type": "code",
   "execution_count": 7,
   "id": "3c8a80b8",
   "metadata": {
    "execution": {
     "iopub.execute_input": "2024-10-17T07:37:47.578305Z",
     "iopub.status.busy": "2024-10-17T07:37:47.577279Z",
     "iopub.status.idle": "2024-10-17T07:37:47.619110Z",
     "shell.execute_reply": "2024-10-17T07:37:47.617489Z"
    },
    "papermill": {
     "duration": 0.054148,
     "end_time": "2024-10-17T07:37:47.622205",
     "exception": false,
     "start_time": "2024-10-17T07:37:47.568057",
     "status": "completed"
    },
    "tags": []
   },
   "outputs": [
    {
     "data": {
      "text/html": [
       "<div>\n",
       "<style scoped>\n",
       "    .dataframe tbody tr th:only-of-type {\n",
       "        vertical-align: middle;\n",
       "    }\n",
       "\n",
       "    .dataframe tbody tr th {\n",
       "        vertical-align: top;\n",
       "    }\n",
       "\n",
       "    .dataframe thead th {\n",
       "        text-align: right;\n",
       "    }\n",
       "</style>\n",
       "<table border=\"1\" class=\"dataframe\">\n",
       "  <thead>\n",
       "    <tr style=\"text-align: right;\">\n",
       "      <th></th>\n",
       "      <th>id</th>\n",
       "      <th>name</th>\n",
       "      <th>date</th>\n",
       "      <th>manner_of_death</th>\n",
       "      <th>armed</th>\n",
       "      <th>age</th>\n",
       "      <th>gender</th>\n",
       "      <th>race</th>\n",
       "      <th>city</th>\n",
       "      <th>state</th>\n",
       "      <th>signs_of_mental_illness</th>\n",
       "      <th>threat_level</th>\n",
       "      <th>flee</th>\n",
       "      <th>body_camera</th>\n",
       "    </tr>\n",
       "  </thead>\n",
       "  <tbody>\n",
       "    <tr>\n",
       "      <th>0</th>\n",
       "      <td>3</td>\n",
       "      <td>Tim Elliot</td>\n",
       "      <td>02/01/15</td>\n",
       "      <td>shot</td>\n",
       "      <td>gun</td>\n",
       "      <td>53.0</td>\n",
       "      <td>M</td>\n",
       "      <td>A</td>\n",
       "      <td>Shelton</td>\n",
       "      <td>WA</td>\n",
       "      <td>True</td>\n",
       "      <td>attack</td>\n",
       "      <td>Not fleeing</td>\n",
       "      <td>False</td>\n",
       "    </tr>\n",
       "    <tr>\n",
       "      <th>1</th>\n",
       "      <td>4</td>\n",
       "      <td>Lewis Lee Lembke</td>\n",
       "      <td>02/01/15</td>\n",
       "      <td>shot</td>\n",
       "      <td>gun</td>\n",
       "      <td>47.0</td>\n",
       "      <td>M</td>\n",
       "      <td>W</td>\n",
       "      <td>Aloha</td>\n",
       "      <td>OR</td>\n",
       "      <td>False</td>\n",
       "      <td>attack</td>\n",
       "      <td>Not fleeing</td>\n",
       "      <td>False</td>\n",
       "    </tr>\n",
       "    <tr>\n",
       "      <th>2</th>\n",
       "      <td>5</td>\n",
       "      <td>John Paul Quintero</td>\n",
       "      <td>03/01/15</td>\n",
       "      <td>shot and Tasered</td>\n",
       "      <td>unarmed</td>\n",
       "      <td>23.0</td>\n",
       "      <td>M</td>\n",
       "      <td>H</td>\n",
       "      <td>Wichita</td>\n",
       "      <td>KS</td>\n",
       "      <td>False</td>\n",
       "      <td>other</td>\n",
       "      <td>Not fleeing</td>\n",
       "      <td>False</td>\n",
       "    </tr>\n",
       "    <tr>\n",
       "      <th>3</th>\n",
       "      <td>8</td>\n",
       "      <td>Matthew Hoffman</td>\n",
       "      <td>04/01/15</td>\n",
       "      <td>shot</td>\n",
       "      <td>toy weapon</td>\n",
       "      <td>32.0</td>\n",
       "      <td>M</td>\n",
       "      <td>W</td>\n",
       "      <td>San Francisco</td>\n",
       "      <td>CA</td>\n",
       "      <td>True</td>\n",
       "      <td>attack</td>\n",
       "      <td>Not fleeing</td>\n",
       "      <td>False</td>\n",
       "    </tr>\n",
       "    <tr>\n",
       "      <th>4</th>\n",
       "      <td>9</td>\n",
       "      <td>Michael Rodriguez</td>\n",
       "      <td>04/01/15</td>\n",
       "      <td>shot</td>\n",
       "      <td>nail gun</td>\n",
       "      <td>39.0</td>\n",
       "      <td>M</td>\n",
       "      <td>H</td>\n",
       "      <td>Evans</td>\n",
       "      <td>CO</td>\n",
       "      <td>False</td>\n",
       "      <td>attack</td>\n",
       "      <td>Not fleeing</td>\n",
       "      <td>False</td>\n",
       "    </tr>\n",
       "  </tbody>\n",
       "</table>\n",
       "</div>"
      ],
      "text/plain": [
       "   id                name      date   manner_of_death       armed   age  \\\n",
       "0   3          Tim Elliot  02/01/15              shot         gun  53.0   \n",
       "1   4    Lewis Lee Lembke  02/01/15              shot         gun  47.0   \n",
       "2   5  John Paul Quintero  03/01/15  shot and Tasered     unarmed  23.0   \n",
       "3   8     Matthew Hoffman  04/01/15              shot  toy weapon  32.0   \n",
       "4   9   Michael Rodriguez  04/01/15              shot    nail gun  39.0   \n",
       "\n",
       "  gender race           city state  signs_of_mental_illness threat_level  \\\n",
       "0      M    A        Shelton    WA                     True       attack   \n",
       "1      M    W          Aloha    OR                    False       attack   \n",
       "2      M    H        Wichita    KS                    False        other   \n",
       "3      M    W  San Francisco    CA                     True       attack   \n",
       "4      M    H          Evans    CO                    False       attack   \n",
       "\n",
       "          flee  body_camera  \n",
       "0  Not fleeing        False  \n",
       "1  Not fleeing        False  \n",
       "2  Not fleeing        False  \n",
       "3  Not fleeing        False  \n",
       "4  Not fleeing        False  "
      ]
     },
     "execution_count": 7,
     "metadata": {},
     "output_type": "execute_result"
    }
   ],
   "source": [
    "# (Optional) Use this code cell for any additional work.\n",
    "police_killings = pd.read_csv(\"../input/fatal-police-shootings-in-the-us/PoliceKillingsUS.csv\", encoding=\"windows-1252\")\n",
    "    \n",
    "    \n",
    "    \n",
    "police_killings.head()"
   ]
  },
  {
   "cell_type": "code",
   "execution_count": 8,
   "id": "1b9d71be",
   "metadata": {
    "execution": {
     "iopub.execute_input": "2024-10-17T07:37:47.642159Z",
     "iopub.status.busy": "2024-10-17T07:37:47.640975Z",
     "iopub.status.idle": "2024-10-17T07:37:47.647028Z",
     "shell.execute_reply": "2024-10-17T07:37:47.645652Z"
    },
    "papermill": {
     "duration": 0.018734,
     "end_time": "2024-10-17T07:37:47.649481",
     "exception": false,
     "start_time": "2024-10-17T07:37:47.630747",
     "status": "completed"
    },
    "tags": []
   },
   "outputs": [],
   "source": [
    "# Lines below will give you a hint or solution code\n",
    "#q2.hint()\n",
    "#q2.solution()"
   ]
  },
  {
   "cell_type": "markdown",
   "id": "0f7b20bc",
   "metadata": {
    "papermill": {
     "duration": 0.008144,
     "end_time": "2024-10-17T07:37:47.666126",
     "exception": false,
     "start_time": "2024-10-17T07:37:47.657982",
     "status": "completed"
    },
    "tags": []
   },
   "source": [
    "# 3) Saving your files with UTF-8 encoding\n",
    "\n",
    "Save a version of the police killings dataset to CSV with UTF-8 encoding.  Your answer will be marked correct after saving this file.  \n",
    "\n",
    "Note: When using the `to_csv()` method, supply only the name of the file (e.g., `\"my_file.csv\"`).  This saves the file at the filepath `\"/kaggle/working/my_file.csv\"`."
   ]
  },
  {
   "cell_type": "code",
   "execution_count": 9,
   "id": "583f69f5",
   "metadata": {
    "execution": {
     "iopub.execute_input": "2024-10-17T07:37:47.685779Z",
     "iopub.status.busy": "2024-10-17T07:37:47.684546Z",
     "iopub.status.idle": "2024-10-17T07:37:47.737820Z",
     "shell.execute_reply": "2024-10-17T07:37:47.736577Z"
    },
    "papermill": {
     "duration": 0.065935,
     "end_time": "2024-10-17T07:37:47.740550",
     "exception": false,
     "start_time": "2024-10-17T07:37:47.674615",
     "status": "completed"
    },
    "tags": []
   },
   "outputs": [
    {
     "data": {
      "application/javascript": [
       "parent.postMessage({\"jupyterEvent\": \"custom.exercise_interaction\", \"data\": {\"outcomeType\": 1, \"valueTowardsCompletion\": 0.3333333333333333, \"interactionType\": 1, \"questionType\": 2, \"questionId\": \"3_SaveCSV\", \"learnToolsVersion\": \"0.3.4\", \"failureMessage\": \"\", \"exceptionClass\": \"\", \"trace\": \"\"}}, \"*\")"
      ],
      "text/plain": [
       "<IPython.core.display.Javascript object>"
      ]
     },
     "metadata": {},
     "output_type": "display_data"
    },
    {
     "data": {
      "text/markdown": [
       "<span style=\"color:#33cc33\">Correct</span>"
      ],
      "text/plain": [
       "Correct"
      ]
     },
     "metadata": {},
     "output_type": "display_data"
    }
   ],
   "source": [
    "# TODO: Save the police killings dataset to CSV\n",
    "police_killings.to_csv(\"my_file.csv\")\n",
    "# Check your answer\n",
    "q3.check()"
   ]
  },
  {
   "cell_type": "code",
   "execution_count": 10,
   "id": "e0d7203b",
   "metadata": {
    "execution": {
     "iopub.execute_input": "2024-10-17T07:37:47.760472Z",
     "iopub.status.busy": "2024-10-17T07:37:47.759107Z",
     "iopub.status.idle": "2024-10-17T07:37:47.765392Z",
     "shell.execute_reply": "2024-10-17T07:37:47.763980Z"
    },
    "papermill": {
     "duration": 0.019593,
     "end_time": "2024-10-17T07:37:47.768564",
     "exception": false,
     "start_time": "2024-10-17T07:37:47.748971",
     "status": "completed"
    },
    "tags": []
   },
   "outputs": [],
   "source": [
    "# Lines below will give you a hint or solution code\n",
    "#q3.hint()\n",
    "#q3.solution()"
   ]
  },
  {
   "cell_type": "markdown",
   "id": "bc74a9a4",
   "metadata": {
    "papermill": {
     "duration": 0.008536,
     "end_time": "2024-10-17T07:37:47.786073",
     "exception": false,
     "start_time": "2024-10-17T07:37:47.777537",
     "status": "completed"
    },
    "tags": []
   },
   "source": [
    "# (Optional) More practice\n",
    "\n",
    "Check out [this dataset of files in different character encodings](https://www.kaggle.com/rtatman/character-encoding-examples). Can you read in all the files with their original encodings and them save them out as UTF-8 files?\n",
    "\n",
    "If you have a file that's in UTF-8 but has just a couple of weird-looking characters in it, you can try out the [ftfy module](https://ftfy.readthedocs.io/en/latest/#) and see if it helps. \n",
    "\n",
    "# Keep going\n",
    "\n",
    "In the final lesson, learn how to [**clean up inconsistent text entries**](https://www.kaggle.com/alexisbcook/inconsistent-data-entry) in your dataset."
   ]
  },
  {
   "cell_type": "markdown",
   "id": "1725a84b",
   "metadata": {
    "papermill": {
     "duration": 0.008417,
     "end_time": "2024-10-17T07:37:47.803331",
     "exception": false,
     "start_time": "2024-10-17T07:37:47.794914",
     "status": "completed"
    },
    "tags": []
   },
   "source": [
    "---\n",
    "\n",
    "\n",
    "\n",
    "\n",
    "*Have questions or comments? Visit the [course discussion forum](https://www.kaggle.com/learn/data-cleaning/discussion) to chat with other learners.*"
   ]
  }
 ],
 "metadata": {
  "kaggle": {
   "accelerator": "none",
   "dataSources": [
    {
     "datasetId": 2647,
     "sourceId": 4395,
     "sourceType": "datasetVersion"
    }
   ],
   "isGpuEnabled": false,
   "isInternetEnabled": false,
   "language": "python",
   "sourceType": "notebook"
  },
  "kernelspec": {
   "display_name": "Python 3",
   "language": "python",
   "name": "python3"
  },
  "language_info": {
   "codemirror_mode": {
    "name": "ipython",
    "version": 3
   },
   "file_extension": ".py",
   "mimetype": "text/x-python",
   "name": "python",
   "nbconvert_exporter": "python",
   "pygments_lexer": "ipython3",
   "version": "3.10.14"
  },
  "papermill": {
   "default_parameters": {},
   "duration": 5.817855,
   "end_time": "2024-10-17T07:37:48.537431",
   "environment_variables": {},
   "exception": null,
   "input_path": "__notebook__.ipynb",
   "output_path": "__notebook__.ipynb",
   "parameters": {},
   "start_time": "2024-10-17T07:37:42.719576",
   "version": "2.6.0"
  }
 },
 "nbformat": 4,
 "nbformat_minor": 5
}
