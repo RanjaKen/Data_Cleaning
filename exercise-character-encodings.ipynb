{
 "cells": [
  {
   "cell_type": "markdown",
   "id": "52dad60c",
   "metadata": {
    "papermill": {
     "duration": 0.007883,
     "end_time": "2024-10-14T05:10:29.650709",
     "exception": false,
     "start_time": "2024-10-14T05:10:29.642826",
     "status": "completed"
    },
    "tags": []
   },
   "source": [
    "**This notebook is an exercise in the [Data Cleaning](https://www.kaggle.com/learn/data-cleaning) course.  You can reference the tutorial at [this link](https://www.kaggle.com/alexisbcook/character-encodings).**\n",
    "\n",
    "---\n"
   ]
  },
  {
   "cell_type": "markdown",
   "id": "361dd2f7",
   "metadata": {
    "papermill": {
     "duration": 0.006559,
     "end_time": "2024-10-14T05:10:29.665794",
     "exception": false,
     "start_time": "2024-10-14T05:10:29.659235",
     "status": "completed"
    },
    "tags": []
   },
   "source": [
    "In this exercise, you'll apply what you learned in the **Character encodings** tutorial.\n",
    "\n",
    "# Setup\n",
    "\n",
    "The questions below will give you feedback on your work. Run the following cell to set up the feedback system."
   ]
  },
  {
   "cell_type": "code",
   "execution_count": 1,
   "id": "d5948b4b",
   "metadata": {
    "execution": {
     "iopub.execute_input": "2024-10-14T05:10:29.683834Z",
     "iopub.status.busy": "2024-10-14T05:10:29.682460Z",
     "iopub.status.idle": "2024-10-14T05:10:30.949074Z",
     "shell.execute_reply": "2024-10-14T05:10:30.947434Z"
    },
    "papermill": {
     "duration": 1.278544,
     "end_time": "2024-10-14T05:10:30.952144",
     "exception": false,
     "start_time": "2024-10-14T05:10:29.673600",
     "status": "completed"
    },
    "tags": []
   },
   "outputs": [
    {
     "name": "stdout",
     "output_type": "stream",
     "text": [
      "Setup Complete\n"
     ]
    }
   ],
   "source": [
    "from learntools.core import binder\n",
    "binder.bind(globals())\n",
    "from learntools.data_cleaning.ex4 import *\n",
    "print(\"Setup Complete\")"
   ]
  },
  {
   "cell_type": "markdown",
   "id": "bb8ef976",
   "metadata": {
    "papermill": {
     "duration": 0.006975,
     "end_time": "2024-10-14T05:10:30.966438",
     "exception": false,
     "start_time": "2024-10-14T05:10:30.959463",
     "status": "completed"
    },
    "tags": []
   },
   "source": [
    "# Get our environment set up\n",
    "\n",
    "The first thing we'll need to do is load in the libraries we'll be using."
   ]
  },
  {
   "cell_type": "code",
   "execution_count": 2,
   "id": "c7435f11",
   "metadata": {
    "execution": {
     "iopub.execute_input": "2024-10-14T05:10:30.982264Z",
     "iopub.status.busy": "2024-10-14T05:10:30.981772Z",
     "iopub.status.idle": "2024-10-14T05:10:30.988732Z",
     "shell.execute_reply": "2024-10-14T05:10:30.987311Z"
    },
    "papermill": {
     "duration": 0.018533,
     "end_time": "2024-10-14T05:10:30.991771",
     "exception": false,
     "start_time": "2024-10-14T05:10:30.973238",
     "status": "completed"
    },
    "tags": []
   },
   "outputs": [],
   "source": [
    "# modules we'll use\n",
    "import pandas as pd\n",
    "import numpy as np\n",
    "\n",
    "# helpful character encoding module\n",
    "import charset_normalizer\n",
    "\n",
    "# set seed for reproducibility\n",
    "np.random.seed(0)"
   ]
  },
  {
   "cell_type": "markdown",
   "id": "66c45a24",
   "metadata": {
    "papermill": {
     "duration": 0.008012,
     "end_time": "2024-10-14T05:10:31.006790",
     "exception": false,
     "start_time": "2024-10-14T05:10:30.998778",
     "status": "completed"
    },
    "tags": []
   },
   "source": [
    "# 1) What are encodings?\n",
    "\n",
    "You're working with a dataset composed of bytes.  Run the code cell below to print a sample entry."
   ]
  },
  {
   "cell_type": "code",
   "execution_count": 3,
   "id": "50a960f7",
   "metadata": {
    "execution": {
     "iopub.execute_input": "2024-10-14T05:10:31.024582Z",
     "iopub.status.busy": "2024-10-14T05:10:31.023193Z",
     "iopub.status.idle": "2024-10-14T05:10:31.031010Z",
     "shell.execute_reply": "2024-10-14T05:10:31.029527Z"
    },
    "papermill": {
     "duration": 0.020047,
     "end_time": "2024-10-14T05:10:31.033861",
     "exception": false,
     "start_time": "2024-10-14T05:10:31.013814",
     "status": "completed"
    },
    "tags": []
   },
   "outputs": [
    {
     "name": "stdout",
     "output_type": "stream",
     "text": [
      "b'\\xa7A\\xa6n'\n",
      "data type: <class 'bytes'>\n"
     ]
    }
   ],
   "source": [
    "sample_entry = b'\\xa7A\\xa6n'\n",
    "print(sample_entry)\n",
    "print('data type:', type(sample_entry))"
   ]
  },
  {
   "cell_type": "markdown",
   "id": "45cbf1c4",
   "metadata": {
    "papermill": {
     "duration": 0.008713,
     "end_time": "2024-10-14T05:10:31.049603",
     "exception": false,
     "start_time": "2024-10-14T05:10:31.040890",
     "status": "completed"
    },
    "tags": []
   },
   "source": [
    "You notice that it doesn't use the standard UTF-8 encoding. \n",
    "\n",
    "Use the next code cell to create a variable `new_entry` that changes the encoding from `\"big5-tw\"` to `\"utf-8\"`.  `new_entry` should have the bytes datatype."
   ]
  },
  {
   "cell_type": "code",
   "execution_count": 4,
   "id": "b485dce6",
   "metadata": {
    "execution": {
     "iopub.execute_input": "2024-10-14T05:10:31.066914Z",
     "iopub.status.busy": "2024-10-14T05:10:31.066375Z",
     "iopub.status.idle": "2024-10-14T05:10:31.078596Z",
     "shell.execute_reply": "2024-10-14T05:10:31.077223Z"
    },
    "papermill": {
     "duration": 0.024264,
     "end_time": "2024-10-14T05:10:31.081161",
     "exception": false,
     "start_time": "2024-10-14T05:10:31.056897",
     "status": "completed"
    },
    "tags": []
   },
   "outputs": [
    {
     "data": {
      "application/javascript": [
       "parent.postMessage({\"jupyterEvent\": \"custom.exercise_interaction\", \"data\": {\"outcomeType\": 1, \"valueTowardsCompletion\": 0.3333333333333333, \"interactionType\": 1, \"questionType\": 1, \"questionId\": \"1_EncodingsIntro\", \"learnToolsVersion\": \"0.3.4\", \"failureMessage\": \"\", \"exceptionClass\": \"\", \"trace\": \"\"}}, \"*\")"
      ],
      "text/plain": [
       "<IPython.core.display.Javascript object>"
      ]
     },
     "metadata": {},
     "output_type": "display_data"
    },
    {
     "data": {
      "text/markdown": [
       "<span style=\"color:#33cc33\">Correct</span>"
      ],
      "text/plain": [
       "Correct"
      ]
     },
     "metadata": {},
     "output_type": "display_data"
    }
   ],
   "source": [
    "bef = sample_entry.decode(\"big5-tw\")\n",
    "new_entry = bef.encode()\n",
    "\n",
    "# Check your answer\n",
    "q1.check()"
   ]
  },
  {
   "cell_type": "code",
   "execution_count": 5,
   "id": "f5161fb6",
   "metadata": {
    "execution": {
     "iopub.execute_input": "2024-10-14T05:10:31.099960Z",
     "iopub.status.busy": "2024-10-14T05:10:31.098774Z",
     "iopub.status.idle": "2024-10-14T05:10:31.109489Z",
     "shell.execute_reply": "2024-10-14T05:10:31.108206Z"
    },
    "papermill": {
     "duration": 0.022558,
     "end_time": "2024-10-14T05:10:31.111911",
     "exception": false,
     "start_time": "2024-10-14T05:10:31.089353",
     "status": "completed"
    },
    "tags": []
   },
   "outputs": [
    {
     "data": {
      "application/javascript": [
       "parent.postMessage({\"jupyterEvent\": \"custom.exercise_interaction\", \"data\": {\"interactionType\": 2, \"questionType\": 1, \"questionId\": \"1_EncodingsIntro\", \"learnToolsVersion\": \"0.3.4\", \"valueTowardsCompletion\": 0.0, \"failureMessage\": \"\", \"exceptionClass\": \"\", \"trace\": \"\", \"outcomeType\": 4}}, \"*\")"
      ],
      "text/plain": [
       "<IPython.core.display.Javascript object>"
      ]
     },
     "metadata": {},
     "output_type": "display_data"
    },
    {
     "data": {
      "text/markdown": [
       "<span style=\"color:#3366cc\">Hint:</span> Try using `.decode()` to get the string, then `.encode()` to get the bytes representation, encoded in UTF-8."
      ],
      "text/plain": [
       "Hint: Try using `.decode()` to get the string, then `.encode()` to get the bytes representation, encoded in UTF-8."
      ]
     },
     "metadata": {},
     "output_type": "display_data"
    }
   ],
   "source": [
    "# Lines below will give you a hint or solution code\n",
    "q1.hint()\n",
    "#q1.solution()"
   ]
  },
  {
   "cell_type": "markdown",
   "id": "42d52bce",
   "metadata": {
    "papermill": {
     "duration": 0.007225,
     "end_time": "2024-10-14T05:10:31.126737",
     "exception": false,
     "start_time": "2024-10-14T05:10:31.119512",
     "status": "completed"
    },
    "tags": []
   },
   "source": [
    "# 2) Reading in files with encoding problems\n",
    "\n",
    "Use the code cell below to read in this file at path `\"../input/fatal-police-shootings-in-the-us/PoliceKillingsUS.csv\"`.  \n",
    "\n",
    "Figure out what the correct encoding should be and read in the file to a DataFrame `police_killings`."
   ]
  },
  {
   "cell_type": "code",
   "execution_count": 6,
   "id": "5d584095",
   "metadata": {
    "execution": {
     "iopub.execute_input": "2024-10-14T05:10:31.144198Z",
     "iopub.status.busy": "2024-10-14T05:10:31.143695Z",
     "iopub.status.idle": "2024-10-14T05:10:31.155542Z",
     "shell.execute_reply": "2024-10-14T05:10:31.154232Z"
    },
    "papermill": {
     "duration": 0.024109,
     "end_time": "2024-10-14T05:10:31.158483",
     "exception": false,
     "start_time": "2024-10-14T05:10:31.134374",
     "status": "completed"
    },
    "tags": []
   },
   "outputs": [
    {
     "data": {
      "application/javascript": [
       "parent.postMessage({\"jupyterEvent\": \"custom.exercise_interaction\", \"data\": {\"outcomeType\": 4, \"interactionType\": 1, \"questionType\": 1, \"questionId\": \"2_ReadIn\", \"learnToolsVersion\": \"0.3.4\", \"valueTowardsCompletion\": 0.0, \"failureMessage\": \"\", \"exceptionClass\": \"\", \"trace\": \"\"}}, \"*\")"
      ],
      "text/plain": [
       "<IPython.core.display.Javascript object>"
      ]
     },
     "metadata": {},
     "output_type": "display_data"
    },
    {
     "data": {
      "text/markdown": [
       "<span style=\"color:#ccaa33\">Check:</span> When you've updated the starter code, `check()` will tell you whether your code is correct. You need to update the code that creates variable `police_killings`"
      ],
      "text/plain": [
       "Check: When you've updated the starter code, `check()` will tell you whether your code is correct. You need to update the code that creates variable `police_killings`"
      ]
     },
     "metadata": {},
     "output_type": "display_data"
    }
   ],
   "source": [
    "# TODO: Load in the DataFrame correctly.\n",
    "police_killings = ____\n",
    "\n",
    "# Check your answer\n",
    "q2.check()"
   ]
  },
  {
   "cell_type": "markdown",
   "id": "40978494",
   "metadata": {
    "papermill": {
     "duration": 0.007592,
     "end_time": "2024-10-14T05:10:31.174890",
     "exception": false,
     "start_time": "2024-10-14T05:10:31.167298",
     "status": "completed"
    },
    "tags": []
   },
   "source": [
    "Feel free to use any additional code cells for supplemental work.  To get credit for finishing this question, you'll need to run `q2.check()` and get a result of **Correct**."
   ]
  },
  {
   "cell_type": "code",
   "execution_count": 7,
   "id": "f721da6d",
   "metadata": {
    "execution": {
     "iopub.execute_input": "2024-10-14T05:10:31.195247Z",
     "iopub.status.busy": "2024-10-14T05:10:31.194696Z",
     "iopub.status.idle": "2024-10-14T05:10:31.201559Z",
     "shell.execute_reply": "2024-10-14T05:10:31.199900Z"
    },
    "papermill": {
     "duration": 0.021597,
     "end_time": "2024-10-14T05:10:31.205628",
     "exception": false,
     "start_time": "2024-10-14T05:10:31.184031",
     "status": "completed"
    },
    "tags": []
   },
   "outputs": [],
   "source": [
    "# (Optional) Use this code cell for any additional work."
   ]
  },
  {
   "cell_type": "code",
   "execution_count": 8,
   "id": "1ab0cd16",
   "metadata": {
    "execution": {
     "iopub.execute_input": "2024-10-14T05:10:31.224332Z",
     "iopub.status.busy": "2024-10-14T05:10:31.223859Z",
     "iopub.status.idle": "2024-10-14T05:10:31.229802Z",
     "shell.execute_reply": "2024-10-14T05:10:31.228291Z"
    },
    "papermill": {
     "duration": 0.018463,
     "end_time": "2024-10-14T05:10:31.232658",
     "exception": false,
     "start_time": "2024-10-14T05:10:31.214195",
     "status": "completed"
    },
    "tags": []
   },
   "outputs": [],
   "source": [
    "# Lines below will give you a hint or solution code\n",
    "#q2.hint()\n",
    "#q2.solution()"
   ]
  },
  {
   "cell_type": "markdown",
   "id": "4e434fec",
   "metadata": {
    "papermill": {
     "duration": 0.008086,
     "end_time": "2024-10-14T05:10:31.249069",
     "exception": false,
     "start_time": "2024-10-14T05:10:31.240983",
     "status": "completed"
    },
    "tags": []
   },
   "source": [
    "# 3) Saving your files with UTF-8 encoding\n",
    "\n",
    "Save a version of the police killings dataset to CSV with UTF-8 encoding.  Your answer will be marked correct after saving this file.  \n",
    "\n",
    "Note: When using the `to_csv()` method, supply only the name of the file (e.g., `\"my_file.csv\"`).  This saves the file at the filepath `\"/kaggle/working/my_file.csv\"`."
   ]
  },
  {
   "cell_type": "code",
   "execution_count": 9,
   "id": "8bfb7880",
   "metadata": {
    "execution": {
     "iopub.execute_input": "2024-10-14T05:10:31.269488Z",
     "iopub.status.busy": "2024-10-14T05:10:31.268921Z",
     "iopub.status.idle": "2024-10-14T05:10:31.280530Z",
     "shell.execute_reply": "2024-10-14T05:10:31.279069Z"
    },
    "papermill": {
     "duration": 0.026265,
     "end_time": "2024-10-14T05:10:31.283527",
     "exception": false,
     "start_time": "2024-10-14T05:10:31.257262",
     "status": "completed"
    },
    "tags": []
   },
   "outputs": [
    {
     "data": {
      "application/javascript": [
       "parent.postMessage({\"jupyterEvent\": \"custom.exercise_interaction\", \"data\": {\"outcomeType\": 2, \"failureMessage\": \"Please save a CSV file and run this code cell again to get credit!\", \"interactionType\": 1, \"questionType\": 2, \"questionId\": \"3_SaveCSV\", \"learnToolsVersion\": \"0.3.4\", \"valueTowardsCompletion\": 0.0, \"exceptionClass\": \"\", \"trace\": \"\"}}, \"*\")"
      ],
      "text/plain": [
       "<IPython.core.display.Javascript object>"
      ]
     },
     "metadata": {},
     "output_type": "display_data"
    },
    {
     "data": {
      "text/markdown": [
       "<span style=\"color:#cc3333\">Incorrect:</span> Please save a CSV file and run this code cell again to get credit!"
      ],
      "text/plain": [
       "Incorrect: Please save a CSV file and run this code cell again to get credit!"
      ]
     },
     "metadata": {},
     "output_type": "display_data"
    }
   ],
   "source": [
    "# TODO: Save the police killings dataset to CSV\n",
    "____\n",
    "\n",
    "# Check your answer\n",
    "q3.check()"
   ]
  },
  {
   "cell_type": "code",
   "execution_count": 10,
   "id": "81f3b89a",
   "metadata": {
    "execution": {
     "iopub.execute_input": "2024-10-14T05:10:31.303289Z",
     "iopub.status.busy": "2024-10-14T05:10:31.302815Z",
     "iopub.status.idle": "2024-10-14T05:10:31.308940Z",
     "shell.execute_reply": "2024-10-14T05:10:31.307638Z"
    },
    "papermill": {
     "duration": 0.01974,
     "end_time": "2024-10-14T05:10:31.312497",
     "exception": false,
     "start_time": "2024-10-14T05:10:31.292757",
     "status": "completed"
    },
    "tags": []
   },
   "outputs": [],
   "source": [
    "# Lines below will give you a hint or solution code\n",
    "#q3.hint()\n",
    "#q3.solution()"
   ]
  },
  {
   "cell_type": "markdown",
   "id": "42acef04",
   "metadata": {
    "papermill": {
     "duration": 0.008255,
     "end_time": "2024-10-14T05:10:31.329334",
     "exception": false,
     "start_time": "2024-10-14T05:10:31.321079",
     "status": "completed"
    },
    "tags": []
   },
   "source": [
    "# (Optional) More practice\n",
    "\n",
    "Check out [this dataset of files in different character encodings](https://www.kaggle.com/rtatman/character-encoding-examples). Can you read in all the files with their original encodings and them save them out as UTF-8 files?\n",
    "\n",
    "If you have a file that's in UTF-8 but has just a couple of weird-looking characters in it, you can try out the [ftfy module](https://ftfy.readthedocs.io/en/latest/#) and see if it helps. \n",
    "\n",
    "# Keep going\n",
    "\n",
    "In the final lesson, learn how to [**clean up inconsistent text entries**](https://www.kaggle.com/alexisbcook/inconsistent-data-entry) in your dataset."
   ]
  },
  {
   "cell_type": "markdown",
   "id": "4fff5a8b",
   "metadata": {
    "papermill": {
     "duration": 0.009046,
     "end_time": "2024-10-14T05:10:31.346834",
     "exception": false,
     "start_time": "2024-10-14T05:10:31.337788",
     "status": "completed"
    },
    "tags": []
   },
   "source": [
    "---\n",
    "\n",
    "\n",
    "\n",
    "\n",
    "*Have questions or comments? Visit the [course discussion forum](https://www.kaggle.com/learn/data-cleaning/discussion) to chat with other learners.*"
   ]
  }
 ],
 "metadata": {
  "kaggle": {
   "accelerator": "none",
   "dataSources": [
    {
     "datasetId": 2647,
     "sourceId": 4395,
     "sourceType": "datasetVersion"
    }
   ],
   "isGpuEnabled": false,
   "isInternetEnabled": false,
   "language": "python",
   "sourceType": "notebook"
  },
  "kernelspec": {
   "display_name": "Python 3",
   "language": "python",
   "name": "python3"
  },
  "language_info": {
   "codemirror_mode": {
    "name": "ipython",
    "version": 3
   },
   "file_extension": ".py",
   "mimetype": "text/x-python",
   "name": "python",
   "nbconvert_exporter": "python",
   "pygments_lexer": "ipython3",
   "version": "3.10.14"
  },
  "papermill": {
   "default_parameters": {},
   "duration": 5.977506,
   "end_time": "2024-10-14T05:10:32.079718",
   "environment_variables": {},
   "exception": null,
   "input_path": "__notebook__.ipynb",
   "output_path": "__notebook__.ipynb",
   "parameters": {},
   "start_time": "2024-10-14T05:10:26.102212",
   "version": "2.6.0"
  }
 },
 "nbformat": 4,
 "nbformat_minor": 5
}
