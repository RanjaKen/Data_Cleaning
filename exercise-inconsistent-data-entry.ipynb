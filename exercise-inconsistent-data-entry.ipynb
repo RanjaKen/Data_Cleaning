{
 "cells": [
  {
   "cell_type": "markdown",
   "id": "f984ea58",
   "metadata": {
    "papermill": {
     "duration": 0.005957,
     "end_time": "2024-10-16T17:15:16.200797",
     "exception": false,
     "start_time": "2024-10-16T17:15:16.194840",
     "status": "completed"
    },
    "tags": []
   },
   "source": [
    "**This notebook is an exercise in the [Data Cleaning](https://www.kaggle.com/learn/data-cleaning) course.  You can reference the tutorial at [this link](https://www.kaggle.com/alexisbcook/inconsistent-data-entry).**\n",
    "\n",
    "---\n"
   ]
  },
  {
   "cell_type": "markdown",
   "id": "b6e6e5ba",
   "metadata": {
    "papermill": {
     "duration": 0.00463,
     "end_time": "2024-10-16T17:15:16.210607",
     "exception": false,
     "start_time": "2024-10-16T17:15:16.205977",
     "status": "completed"
    },
    "tags": []
   },
   "source": [
    "In this exercise, you'll apply what you learned in the **Inconsistent data entry** tutorial.\n",
    "\n",
    "# Setup\n",
    "\n",
    "The questions below will give you feedback on your work. Run the following cell to set up the feedback system."
   ]
  },
  {
   "cell_type": "code",
   "execution_count": 1,
   "id": "cba25289",
   "metadata": {
    "execution": {
     "iopub.execute_input": "2024-10-16T17:15:16.222671Z",
     "iopub.status.busy": "2024-10-16T17:15:16.221592Z",
     "iopub.status.idle": "2024-10-16T17:15:17.109278Z",
     "shell.execute_reply": "2024-10-16T17:15:17.108108Z"
    },
    "papermill": {
     "duration": 0.897383,
     "end_time": "2024-10-16T17:15:17.112747",
     "exception": false,
     "start_time": "2024-10-16T17:15:16.215364",
     "status": "completed"
    },
    "tags": []
   },
   "outputs": [
    {
     "name": "stdout",
     "output_type": "stream",
     "text": [
      "Setup Complete\n"
     ]
    },
    {
     "name": "stderr",
     "output_type": "stream",
     "text": [
      "/opt/conda/lib/python3.10/site-packages/fuzzywuzzy/fuzz.py:11: UserWarning: Using slow pure-python SequenceMatcher. Install python-Levenshtein to remove this warning\n",
      "  warnings.warn('Using slow pure-python SequenceMatcher. Install python-Levenshtein to remove this warning')\n"
     ]
    }
   ],
   "source": [
    "from learntools.core import binder\n",
    "binder.bind(globals())\n",
    "from learntools.data_cleaning.ex5 import *\n",
    "print(\"Setup Complete\")"
   ]
  },
  {
   "cell_type": "markdown",
   "id": "47d6542a",
   "metadata": {
    "papermill": {
     "duration": 0.004774,
     "end_time": "2024-10-16T17:15:17.122718",
     "exception": false,
     "start_time": "2024-10-16T17:15:17.117944",
     "status": "completed"
    },
    "tags": []
   },
   "source": [
    "# Get our environment set up\n",
    "\n",
    "The first thing we'll need to do is load in the libraries and dataset we'll be using.  We use the same dataset from the tutorial."
   ]
  },
  {
   "cell_type": "code",
   "execution_count": 2,
   "id": "0f1eaa27",
   "metadata": {
    "execution": {
     "iopub.execute_input": "2024-10-16T17:15:17.134643Z",
     "iopub.status.busy": "2024-10-16T17:15:17.134254Z",
     "iopub.status.idle": "2024-10-16T17:15:17.151197Z",
     "shell.execute_reply": "2024-10-16T17:15:17.150196Z"
    },
    "papermill": {
     "duration": 0.026092,
     "end_time": "2024-10-16T17:15:17.153751",
     "exception": false,
     "start_time": "2024-10-16T17:15:17.127659",
     "status": "completed"
    },
    "tags": []
   },
   "outputs": [],
   "source": [
    "# modules we'll use\n",
    "import pandas as pd\n",
    "import numpy as np\n",
    "\n",
    "# helpful modules\n",
    "import fuzzywuzzy\n",
    "from fuzzywuzzy import process\n",
    "import charset_normalizer\n",
    "\n",
    "# read in all our data\n",
    "professors = pd.read_csv(\"../input/pakistan-intellectual-capital/pakistan_intellectual_capital.csv\")\n",
    "\n",
    "# set seed for reproducibility\n",
    "np.random.seed(0)"
   ]
  },
  {
   "cell_type": "markdown",
   "id": "b83ef5b5",
   "metadata": {
    "papermill": {
     "duration": 0.004732,
     "end_time": "2024-10-16T17:15:17.163746",
     "exception": false,
     "start_time": "2024-10-16T17:15:17.159014",
     "status": "completed"
    },
    "tags": []
   },
   "source": [
    "Next, we'll redo all of the work that we did in the tutorial."
   ]
  },
  {
   "cell_type": "code",
   "execution_count": 3,
   "id": "8cf38873",
   "metadata": {
    "execution": {
     "iopub.execute_input": "2024-10-16T17:15:17.175451Z",
     "iopub.status.busy": "2024-10-16T17:15:17.175078Z",
     "iopub.status.idle": "2024-10-16T17:15:17.190785Z",
     "shell.execute_reply": "2024-10-16T17:15:17.189772Z"
    },
    "papermill": {
     "duration": 0.024899,
     "end_time": "2024-10-16T17:15:17.193507",
     "exception": false,
     "start_time": "2024-10-16T17:15:17.168608",
     "status": "completed"
    },
    "tags": []
   },
   "outputs": [
    {
     "name": "stdout",
     "output_type": "stream",
     "text": [
      "All done!\n"
     ]
    }
   ],
   "source": [
    "# convert to lower case\n",
    "professors['Country'] = professors['Country'].str.lower()\n",
    "# remove trailing white spaces\n",
    "professors['Country'] = professors['Country'].str.strip()\n",
    "\n",
    "# get the top 10 closest matches to \"south korea\"\n",
    "countries = professors['Country'].unique()\n",
    "matches = fuzzywuzzy.process.extract(\"south korea\", countries, limit=10, scorer=fuzzywuzzy.fuzz.token_sort_ratio)\n",
    "\n",
    "def replace_matches_in_column(df, column, string_to_match, min_ratio = 47):\n",
    "    # get a list of unique strings\n",
    "    strings = df[column].unique()\n",
    "    \n",
    "    # get the top 10 closest matches to our input string\n",
    "    matches = fuzzywuzzy.process.extract(string_to_match, strings, \n",
    "                                         limit=10, scorer=fuzzywuzzy.fuzz.token_sort_ratio)\n",
    "\n",
    "    # only get matches with a ratio > 90\n",
    "    close_matches = [matches[0] for matches in matches if matches[1] >= min_ratio]\n",
    "\n",
    "    # get the rows of all the close matches in our dataframe\n",
    "    rows_with_matches = df[column].isin(close_matches)\n",
    "\n",
    "    # replace all rows with close matches with the input matches \n",
    "    df.loc[rows_with_matches, column] = string_to_match\n",
    "    \n",
    "    # let us know the function's done\n",
    "    print(\"All done!\")\n",
    "    \n",
    "replace_matches_in_column(df=professors, column='Country', string_to_match=\"south korea\")\n",
    "countries = professors['Country'].unique()"
   ]
  },
  {
   "cell_type": "markdown",
   "id": "c0549cdf",
   "metadata": {
    "papermill": {
     "duration": 0.004759,
     "end_time": "2024-10-16T17:15:17.204306",
     "exception": false,
     "start_time": "2024-10-16T17:15:17.199547",
     "status": "completed"
    },
    "tags": []
   },
   "source": [
    "# 1) Examine another column\n",
    "\n",
    "Write code below to take a look at all the unique values in the \"Graduated from\" column."
   ]
  },
  {
   "cell_type": "code",
   "execution_count": 4,
   "id": "f95b6771",
   "metadata": {
    "execution": {
     "iopub.execute_input": "2024-10-16T17:15:17.216067Z",
     "iopub.status.busy": "2024-10-16T17:15:17.215672Z",
     "iopub.status.idle": "2024-10-16T17:15:17.220453Z",
     "shell.execute_reply": "2024-10-16T17:15:17.219419Z"
    },
    "papermill": {
     "duration": 0.013265,
     "end_time": "2024-10-16T17:15:17.222576",
     "exception": false,
     "start_time": "2024-10-16T17:15:17.209311",
     "status": "completed"
    },
    "tags": []
   },
   "outputs": [],
   "source": [
    "# TODO: Your code here"
   ]
  },
  {
   "cell_type": "markdown",
   "id": "48e6486e",
   "metadata": {
    "papermill": {
     "duration": 0.004792,
     "end_time": "2024-10-16T17:15:17.232472",
     "exception": false,
     "start_time": "2024-10-16T17:15:17.227680",
     "status": "completed"
    },
    "tags": []
   },
   "source": [
    "Do you notice any inconsistencies in the data?  Can any of the inconsistencies in the data be fixed by removing white spaces at the beginning and end of cells?\n",
    "\n",
    "Once you have answered these questions, run the code cell below to get credit for your work."
   ]
  },
  {
   "cell_type": "code",
   "execution_count": 5,
   "id": "461f6c29",
   "metadata": {
    "execution": {
     "iopub.execute_input": "2024-10-16T17:15:17.244223Z",
     "iopub.status.busy": "2024-10-16T17:15:17.243816Z",
     "iopub.status.idle": "2024-10-16T17:15:17.253298Z",
     "shell.execute_reply": "2024-10-16T17:15:17.252312Z"
    },
    "papermill": {
     "duration": 0.017914,
     "end_time": "2024-10-16T17:15:17.255465",
     "exception": false,
     "start_time": "2024-10-16T17:15:17.237551",
     "status": "completed"
    },
    "tags": []
   },
   "outputs": [
    {
     "data": {
      "application/javascript": [
       "parent.postMessage({\"jupyterEvent\": \"custom.exercise_interaction\", \"data\": {\"outcomeType\": 1, \"valueTowardsCompletion\": 0.3333333333333333, \"interactionType\": 1, \"questionType\": 4, \"questionId\": \"1_ExamineProvince\", \"learnToolsVersion\": \"0.3.4\", \"failureMessage\": \"\", \"exceptionClass\": \"\", \"trace\": \"\"}}, \"*\")"
      ],
      "text/plain": [
       "<IPython.core.display.Javascript object>"
      ]
     },
     "metadata": {},
     "output_type": "display_data"
    },
    {
     "data": {
      "text/markdown": [
       "<span style=\"color:#33cc33\">Correct:</span> \n",
       "\n",
       "There are inconsistencies that can be fixed by removing white spaces at the beginning and end of cells.  For instance, \"University of Central Florida\" and \" University of Central Florida\" both appear in the column."
      ],
      "text/plain": [
       "Correct: \n",
       "\n",
       "There are inconsistencies that can be fixed by removing white spaces at the beginning and end of cells.  For instance, \"University of Central Florida\" and \" University of Central Florida\" both appear in the column."
      ]
     },
     "metadata": {},
     "output_type": "display_data"
    }
   ],
   "source": [
    "# Check your answer (Run this code cell to receive credit!)\n",
    "q1.check()"
   ]
  },
  {
   "cell_type": "code",
   "execution_count": 6,
   "id": "ad76e585",
   "metadata": {
    "execution": {
     "iopub.execute_input": "2024-10-16T17:15:17.267698Z",
     "iopub.status.busy": "2024-10-16T17:15:17.267326Z",
     "iopub.status.idle": "2024-10-16T17:15:17.271696Z",
     "shell.execute_reply": "2024-10-16T17:15:17.270774Z"
    },
    "papermill": {
     "duration": 0.01299,
     "end_time": "2024-10-16T17:15:17.273725",
     "exception": false,
     "start_time": "2024-10-16T17:15:17.260735",
     "status": "completed"
    },
    "tags": []
   },
   "outputs": [],
   "source": [
    "# Line below will give you a hint\n",
    "#q1.hint()"
   ]
  },
  {
   "cell_type": "markdown",
   "id": "4cbebeb7",
   "metadata": {
    "papermill": {
     "duration": 0.005008,
     "end_time": "2024-10-16T17:15:17.284126",
     "exception": false,
     "start_time": "2024-10-16T17:15:17.279118",
     "status": "completed"
    },
    "tags": []
   },
   "source": [
    "# 2) Do some text pre-processing\n",
    "\n",
    "Convert every entry in the \"Graduated from\" column in the `professors` DataFrame to remove white spaces at the beginning and end of cells."
   ]
  },
  {
   "cell_type": "code",
   "execution_count": 7,
   "id": "9a7293db",
   "metadata": {
    "execution": {
     "iopub.execute_input": "2024-10-16T17:15:17.296496Z",
     "iopub.status.busy": "2024-10-16T17:15:17.296087Z",
     "iopub.status.idle": "2024-10-16T17:15:17.307032Z",
     "shell.execute_reply": "2024-10-16T17:15:17.306081Z"
    },
    "papermill": {
     "duration": 0.019652,
     "end_time": "2024-10-16T17:15:17.309033",
     "exception": false,
     "start_time": "2024-10-16T17:15:17.289381",
     "status": "completed"
    },
    "tags": []
   },
   "outputs": [
    {
     "data": {
      "application/javascript": [
       "parent.postMessage({\"jupyterEvent\": \"custom.exercise_interaction\", \"data\": {\"outcomeType\": 1, \"valueTowardsCompletion\": 0.3333333333333333, \"interactionType\": 1, \"questionType\": 1, \"questionId\": \"2_TextProcessing\", \"learnToolsVersion\": \"0.3.4\", \"failureMessage\": \"\", \"exceptionClass\": \"\", \"trace\": \"\"}}, \"*\")"
      ],
      "text/plain": [
       "<IPython.core.display.Javascript object>"
      ]
     },
     "metadata": {},
     "output_type": "display_data"
    },
    {
     "data": {
      "text/markdown": [
       "<span style=\"color:#33cc33\">Correct</span>"
      ],
      "text/plain": [
       "Correct"
      ]
     },
     "metadata": {},
     "output_type": "display_data"
    }
   ],
   "source": [
    "# TODO: Your code here\n",
    "professors[\"Graduated from\"] = professors[\"Graduated from\"].str.strip()\n",
    "# Check your answer\n",
    "q2.check()"
   ]
  },
  {
   "cell_type": "code",
   "execution_count": 8,
   "id": "10d34c2a",
   "metadata": {
    "execution": {
     "iopub.execute_input": "2024-10-16T17:15:17.321763Z",
     "iopub.status.busy": "2024-10-16T17:15:17.321382Z",
     "iopub.status.idle": "2024-10-16T17:15:17.325564Z",
     "shell.execute_reply": "2024-10-16T17:15:17.324582Z"
    },
    "papermill": {
     "duration": 0.012922,
     "end_time": "2024-10-16T17:15:17.327626",
     "exception": false,
     "start_time": "2024-10-16T17:15:17.314704",
     "status": "completed"
    },
    "tags": []
   },
   "outputs": [],
   "source": [
    "# Lines below will give you a hint or solution code\n",
    "#q2.hint()\n",
    "#q2.solution()"
   ]
  },
  {
   "cell_type": "markdown",
   "id": "c5d396c0",
   "metadata": {
    "papermill": {
     "duration": 0.005115,
     "end_time": "2024-10-16T17:15:17.338293",
     "exception": false,
     "start_time": "2024-10-16T17:15:17.333178",
     "status": "completed"
    },
    "tags": []
   },
   "source": [
    "# 3) Continue working with countries\n",
    "\n",
    "In the tutorial, we focused on cleaning up inconsistencies in the \"Country\" column.  Run the code cell below to view the list of unique values that we ended with."
   ]
  },
  {
   "cell_type": "code",
   "execution_count": 9,
   "id": "fc4232e9",
   "metadata": {
    "execution": {
     "iopub.execute_input": "2024-10-16T17:15:17.350915Z",
     "iopub.status.busy": "2024-10-16T17:15:17.350522Z",
     "iopub.status.idle": "2024-10-16T17:15:17.358314Z",
     "shell.execute_reply": "2024-10-16T17:15:17.357296Z"
    },
    "papermill": {
     "duration": 0.016851,
     "end_time": "2024-10-16T17:15:17.360489",
     "exception": false,
     "start_time": "2024-10-16T17:15:17.343638",
     "status": "completed"
    },
    "tags": []
   },
   "outputs": [
    {
     "data": {
      "text/plain": [
       "array(['australia', 'austria', 'canada', 'china', 'finland', 'france',\n",
       "       'germany', 'greece', 'hongkong', 'ireland', 'italy', 'japan',\n",
       "       'macau', 'malaysia', 'mauritius', 'netherland', 'new zealand',\n",
       "       'norway', 'pakistan', 'portugal', 'russian federation',\n",
       "       'saudi arabia', 'scotland', 'singapore', 'south korea', 'spain',\n",
       "       'sweden', 'thailand', 'turkey', 'uk', 'urbana', 'usa', 'usofa'],\n",
       "      dtype=object)"
      ]
     },
     "execution_count": 9,
     "metadata": {},
     "output_type": "execute_result"
    }
   ],
   "source": [
    "# get all the unique values in the 'City' column\n",
    "countries = professors['Country'].unique()\n",
    "\n",
    "# sort them alphabetically and then take a closer look\n",
    "countries.sort()\n",
    "countries"
   ]
  },
  {
   "cell_type": "markdown",
   "id": "c8e265fd",
   "metadata": {
    "papermill": {
     "duration": 0.00543,
     "end_time": "2024-10-16T17:15:17.371562",
     "exception": false,
     "start_time": "2024-10-16T17:15:17.366132",
     "status": "completed"
    },
    "tags": []
   },
   "source": [
    "Take another look at the \"Country\" column and see if there's any more data cleaning we need to do.\n",
    "\n",
    "It looks like 'usa' and 'usofa' should be the same country.  Correct the \"Country\" column in the dataframe to replace 'usofa' with 'usa'.\n",
    "\n",
    "**Use the most recent version of the DataFrame (with the whitespaces at the beginning and end of cells removed) from question 2.**"
   ]
  },
  {
   "cell_type": "code",
   "execution_count": 10,
   "id": "8e6604f5",
   "metadata": {
    "execution": {
     "iopub.execute_input": "2024-10-16T17:15:17.384517Z",
     "iopub.status.busy": "2024-10-16T17:15:17.384115Z",
     "iopub.status.idle": "2024-10-16T17:15:17.398014Z",
     "shell.execute_reply": "2024-10-16T17:15:17.397095Z"
    },
    "papermill": {
     "duration": 0.02351,
     "end_time": "2024-10-16T17:15:17.400674",
     "exception": false,
     "start_time": "2024-10-16T17:15:17.377164",
     "status": "completed"
    },
    "tags": []
   },
   "outputs": [
    {
     "name": "stdout",
     "output_type": "stream",
     "text": [
      "All done!\n"
     ]
    },
    {
     "data": {
      "application/javascript": [
       "parent.postMessage({\"jupyterEvent\": \"custom.exercise_interaction\", \"data\": {\"outcomeType\": 1, \"valueTowardsCompletion\": 0.3333333333333333, \"interactionType\": 1, \"questionType\": 1, \"questionId\": \"3_WorkingWithCities\", \"learnToolsVersion\": \"0.3.4\", \"failureMessage\": \"\", \"exceptionClass\": \"\", \"trace\": \"\"}}, \"*\")"
      ],
      "text/plain": [
       "<IPython.core.display.Javascript object>"
      ]
     },
     "metadata": {},
     "output_type": "display_data"
    },
    {
     "data": {
      "text/markdown": [
       "<span style=\"color:#33cc33\">Correct</span>"
      ],
      "text/plain": [
       "Correct"
      ]
     },
     "metadata": {},
     "output_type": "display_data"
    }
   ],
   "source": [
    "# TODO: Your code here!\n",
    "\n",
    "mitovu = fuzzywuzzy.process.extract(\"usa\", countries, limit=10, scorer=fuzzywuzzy.fuzz.token_sort_ratio)\n",
    "replace_matches_in_column(df=professors, column=\"Country\", string_to_match=\"usa\", min_ratio= 70)\n",
    "# Check your answer\n",
    "q3.check()"
   ]
  },
  {
   "cell_type": "code",
   "execution_count": 11,
   "id": "825b7cde",
   "metadata": {
    "execution": {
     "iopub.execute_input": "2024-10-16T17:15:17.414368Z",
     "iopub.status.busy": "2024-10-16T17:15:17.413969Z",
     "iopub.status.idle": "2024-10-16T17:15:17.422975Z",
     "shell.execute_reply": "2024-10-16T17:15:17.421933Z"
    },
    "papermill": {
     "duration": 0.018424,
     "end_time": "2024-10-16T17:15:17.425134",
     "exception": false,
     "start_time": "2024-10-16T17:15:17.406710",
     "status": "completed"
    },
    "tags": []
   },
   "outputs": [
    {
     "data": {
      "application/javascript": [
       "parent.postMessage({\"jupyterEvent\": \"custom.exercise_interaction\", \"data\": {\"interactionType\": 3, \"questionType\": 1, \"questionId\": \"3_WorkingWithCities\", \"learnToolsVersion\": \"0.3.4\", \"valueTowardsCompletion\": 0.0, \"failureMessage\": \"\", \"exceptionClass\": \"\", \"trace\": \"\", \"outcomeType\": 4}}, \"*\")"
      ],
      "text/plain": [
       "<IPython.core.display.Javascript object>"
      ]
     },
     "metadata": {},
     "output_type": "display_data"
    },
    {
     "data": {
      "text/markdown": [
       "<span style=\"color:#33cc99\">Solution:</span> \n",
       "```python\n",
       "matches = fuzzywuzzy.process.extract(\"usa\", countries, limit=10, scorer=fuzzywuzzy.fuzz.token_sort_ratio)\n",
       "replace_matches_in_column(df=professors, column='Country', string_to_match=\"usa\", min_ratio=70)\n",
       "\n",
       "```"
      ],
      "text/plain": [
       "Solution: \n",
       "```python\n",
       "matches = fuzzywuzzy.process.extract(\"usa\", countries, limit=10, scorer=fuzzywuzzy.fuzz.token_sort_ratio)\n",
       "replace_matches_in_column(df=professors, column='Country', string_to_match=\"usa\", min_ratio=70)\n",
       "\n",
       "```"
      ]
     },
     "metadata": {},
     "output_type": "display_data"
    }
   ],
   "source": [
    "# Lines below will give you a hint or solution code\n",
    "#q3.hint()\n",
    "q3.solution()"
   ]
  },
  {
   "cell_type": "markdown",
   "id": "f21ceb03",
   "metadata": {
    "papermill": {
     "duration": 0.006059,
     "end_time": "2024-10-16T17:15:17.437413",
     "exception": false,
     "start_time": "2024-10-16T17:15:17.431354",
     "status": "completed"
    },
    "tags": []
   },
   "source": [
    "# Congratulations!\n",
    "\n",
    "Congratulations for completing the **Data Cleaning** course on Kaggle Learn!\n",
    "\n",
    "To practice your new skills, you're encouraged to download and investigate some of [Kaggle's Datasets](https://www.kaggle.com/datasets)."
   ]
  },
  {
   "cell_type": "markdown",
   "id": "48b3734b",
   "metadata": {
    "papermill": {
     "duration": 0.006116,
     "end_time": "2024-10-16T17:15:17.449778",
     "exception": false,
     "start_time": "2024-10-16T17:15:17.443662",
     "status": "completed"
    },
    "tags": []
   },
   "source": [
    "---\n",
    "\n",
    "\n",
    "\n",
    "\n",
    "*Have questions or comments? Visit the [course discussion forum](https://www.kaggle.com/learn/data-cleaning/discussion) to chat with other learners.*"
   ]
  }
 ],
 "metadata": {
  "kaggle": {
   "accelerator": "none",
   "dataSources": [
    {
     "datasetId": 819513,
     "sourceId": 1402182,
     "sourceType": "datasetVersion"
    }
   ],
   "isGpuEnabled": false,
   "isInternetEnabled": false,
   "language": "python",
   "sourceType": "notebook"
  },
  "kernelspec": {
   "display_name": "Python 3",
   "language": "python",
   "name": "python3"
  },
  "language_info": {
   "codemirror_mode": {
    "name": "ipython",
    "version": 3
   },
   "file_extension": ".py",
   "mimetype": "text/x-python",
   "name": "python",
   "nbconvert_exporter": "python",
   "pygments_lexer": "ipython3",
   "version": "3.10.14"
  },
  "papermill": {
   "default_parameters": {},
   "duration": 4.271567,
   "end_time": "2024-10-16T17:15:17.876023",
   "environment_variables": {},
   "exception": null,
   "input_path": "__notebook__.ipynb",
   "output_path": "__notebook__.ipynb",
   "parameters": {},
   "start_time": "2024-10-16T17:15:13.604456",
   "version": "2.6.0"
  }
 },
 "nbformat": 4,
 "nbformat_minor": 5
}
