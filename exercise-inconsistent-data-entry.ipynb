{
 "cells": [
  {
   "cell_type": "markdown",
   "id": "26b0828b",
   "metadata": {
    "papermill": {
     "duration": 0.005722,
     "end_time": "2024-10-15T04:42:45.206344",
     "exception": false,
     "start_time": "2024-10-15T04:42:45.200622",
     "status": "completed"
    },
    "tags": []
   },
   "source": [
    "**This notebook is an exercise in the [Data Cleaning](https://www.kaggle.com/learn/data-cleaning) course.  You can reference the tutorial at [this link](https://www.kaggle.com/alexisbcook/inconsistent-data-entry).**\n",
    "\n",
    "---\n"
   ]
  },
  {
   "cell_type": "markdown",
   "id": "ecc29008",
   "metadata": {
    "papermill": {
     "duration": 0.004545,
     "end_time": "2024-10-15T04:42:45.216272",
     "exception": false,
     "start_time": "2024-10-15T04:42:45.211727",
     "status": "completed"
    },
    "tags": []
   },
   "source": [
    "In this exercise, you'll apply what you learned in the **Inconsistent data entry** tutorial.\n",
    "\n",
    "# Setup\n",
    "\n",
    "The questions below will give you feedback on your work. Run the following cell to set up the feedback system."
   ]
  },
  {
   "cell_type": "code",
   "execution_count": 1,
   "id": "64f699a9",
   "metadata": {
    "execution": {
     "iopub.execute_input": "2024-10-15T04:42:45.227533Z",
     "iopub.status.busy": "2024-10-15T04:42:45.227114Z",
     "iopub.status.idle": "2024-10-15T04:42:46.198431Z",
     "shell.execute_reply": "2024-10-15T04:42:46.197267Z"
    },
    "papermill": {
     "duration": 0.980884,
     "end_time": "2024-10-15T04:42:46.201918",
     "exception": false,
     "start_time": "2024-10-15T04:42:45.221034",
     "status": "completed"
    },
    "tags": []
   },
   "outputs": [
    {
     "name": "stdout",
     "output_type": "stream",
     "text": [
      "Setup Complete\n"
     ]
    },
    {
     "name": "stderr",
     "output_type": "stream",
     "text": [
      "/opt/conda/lib/python3.10/site-packages/fuzzywuzzy/fuzz.py:11: UserWarning: Using slow pure-python SequenceMatcher. Install python-Levenshtein to remove this warning\n",
      "  warnings.warn('Using slow pure-python SequenceMatcher. Install python-Levenshtein to remove this warning')\n"
     ]
    }
   ],
   "source": [
    "from learntools.core import binder\n",
    "binder.bind(globals())\n",
    "from learntools.data_cleaning.ex5 import *\n",
    "print(\"Setup Complete\")"
   ]
  },
  {
   "cell_type": "markdown",
   "id": "7a210f71",
   "metadata": {
    "papermill": {
     "duration": 0.004586,
     "end_time": "2024-10-15T04:42:46.211581",
     "exception": false,
     "start_time": "2024-10-15T04:42:46.206995",
     "status": "completed"
    },
    "tags": []
   },
   "source": [
    "# Get our environment set up\n",
    "\n",
    "The first thing we'll need to do is load in the libraries and dataset we'll be using.  We use the same dataset from the tutorial."
   ]
  },
  {
   "cell_type": "code",
   "execution_count": 2,
   "id": "bfcdbf20",
   "metadata": {
    "execution": {
     "iopub.execute_input": "2024-10-15T04:42:46.223305Z",
     "iopub.status.busy": "2024-10-15T04:42:46.222511Z",
     "iopub.status.idle": "2024-10-15T04:42:46.238404Z",
     "shell.execute_reply": "2024-10-15T04:42:46.237210Z"
    },
    "papermill": {
     "duration": 0.024701,
     "end_time": "2024-10-15T04:42:46.241057",
     "exception": false,
     "start_time": "2024-10-15T04:42:46.216356",
     "status": "completed"
    },
    "tags": []
   },
   "outputs": [],
   "source": [
    "# modules we'll use\n",
    "import pandas as pd\n",
    "import numpy as np\n",
    "\n",
    "# helpful modules\n",
    "import fuzzywuzzy\n",
    "from fuzzywuzzy import process\n",
    "import charset_normalizer\n",
    "\n",
    "# read in all our data\n",
    "professors = pd.read_csv(\"../input/pakistan-intellectual-capital/pakistan_intellectual_capital.csv\")\n",
    "\n",
    "# set seed for reproducibility\n",
    "np.random.seed(0)"
   ]
  },
  {
   "cell_type": "markdown",
   "id": "d67558c3",
   "metadata": {
    "papermill": {
     "duration": 0.0046,
     "end_time": "2024-10-15T04:42:46.250743",
     "exception": false,
     "start_time": "2024-10-15T04:42:46.246143",
     "status": "completed"
    },
    "tags": []
   },
   "source": [
    "Next, we'll redo all of the work that we did in the tutorial."
   ]
  },
  {
   "cell_type": "code",
   "execution_count": 3,
   "id": "180e97c4",
   "metadata": {
    "execution": {
     "iopub.execute_input": "2024-10-15T04:42:46.262606Z",
     "iopub.status.busy": "2024-10-15T04:42:46.261650Z",
     "iopub.status.idle": "2024-10-15T04:42:46.278705Z",
     "shell.execute_reply": "2024-10-15T04:42:46.277556Z"
    },
    "papermill": {
     "duration": 0.025566,
     "end_time": "2024-10-15T04:42:46.281088",
     "exception": false,
     "start_time": "2024-10-15T04:42:46.255522",
     "status": "completed"
    },
    "tags": []
   },
   "outputs": [
    {
     "name": "stdout",
     "output_type": "stream",
     "text": [
      "All done!\n"
     ]
    }
   ],
   "source": [
    "# convert to lower case\n",
    "professors['Country'] = professors['Country'].str.lower()\n",
    "# remove trailing white spaces\n",
    "professors['Country'] = professors['Country'].str.strip()\n",
    "\n",
    "# get the top 10 closest matches to \"south korea\"\n",
    "countries = professors['Country'].unique()\n",
    "matches = fuzzywuzzy.process.extract(\"south korea\", countries, limit=10, scorer=fuzzywuzzy.fuzz.token_sort_ratio)\n",
    "\n",
    "def replace_matches_in_column(df, column, string_to_match, min_ratio = 47):\n",
    "    # get a list of unique strings\n",
    "    strings = df[column].unique()\n",
    "    \n",
    "    # get the top 10 closest matches to our input string\n",
    "    matches = fuzzywuzzy.process.extract(string_to_match, strings, \n",
    "                                         limit=10, scorer=fuzzywuzzy.fuzz.token_sort_ratio)\n",
    "\n",
    "    # only get matches with a ratio > 90\n",
    "    close_matches = [matches[0] for matches in matches if matches[1] >= min_ratio]\n",
    "\n",
    "    # get the rows of all the close matches in our dataframe\n",
    "    rows_with_matches = df[column].isin(close_matches)\n",
    "\n",
    "    # replace all rows with close matches with the input matches \n",
    "    df.loc[rows_with_matches, column] = string_to_match\n",
    "    \n",
    "    # let us know the function's done\n",
    "    print(\"All done!\")\n",
    "    \n",
    "replace_matches_in_column(df=professors, column='Country', string_to_match=\"south korea\")\n",
    "countries = professors['Country'].unique()"
   ]
  },
  {
   "cell_type": "markdown",
   "id": "226706d8",
   "metadata": {
    "papermill": {
     "duration": 0.004712,
     "end_time": "2024-10-15T04:42:46.291936",
     "exception": false,
     "start_time": "2024-10-15T04:42:46.287224",
     "status": "completed"
    },
    "tags": []
   },
   "source": [
    "# 1) Examine another column\n",
    "\n",
    "Write code below to take a look at all the unique values in the \"Graduated from\" column."
   ]
  },
  {
   "cell_type": "code",
   "execution_count": 4,
   "id": "0a08a657",
   "metadata": {
    "execution": {
     "iopub.execute_input": "2024-10-15T04:42:46.303559Z",
     "iopub.status.busy": "2024-10-15T04:42:46.303124Z",
     "iopub.status.idle": "2024-10-15T04:42:46.308074Z",
     "shell.execute_reply": "2024-10-15T04:42:46.306865Z"
    },
    "papermill": {
     "duration": 0.013621,
     "end_time": "2024-10-15T04:42:46.310487",
     "exception": false,
     "start_time": "2024-10-15T04:42:46.296866",
     "status": "completed"
    },
    "tags": []
   },
   "outputs": [],
   "source": [
    "# TODO: Your code here"
   ]
  },
  {
   "cell_type": "markdown",
   "id": "73bd2e4a",
   "metadata": {
    "papermill": {
     "duration": 0.004796,
     "end_time": "2024-10-15T04:42:46.320447",
     "exception": false,
     "start_time": "2024-10-15T04:42:46.315651",
     "status": "completed"
    },
    "tags": []
   },
   "source": [
    "Do you notice any inconsistencies in the data?  Can any of the inconsistencies in the data be fixed by removing white spaces at the beginning and end of cells?\n",
    "\n",
    "Once you have answered these questions, run the code cell below to get credit for your work."
   ]
  },
  {
   "cell_type": "code",
   "execution_count": 5,
   "id": "90e0a53e",
   "metadata": {
    "execution": {
     "iopub.execute_input": "2024-10-15T04:42:46.332481Z",
     "iopub.status.busy": "2024-10-15T04:42:46.332029Z",
     "iopub.status.idle": "2024-10-15T04:42:46.341697Z",
     "shell.execute_reply": "2024-10-15T04:42:46.340698Z"
    },
    "papermill": {
     "duration": 0.018345,
     "end_time": "2024-10-15T04:42:46.343944",
     "exception": false,
     "start_time": "2024-10-15T04:42:46.325599",
     "status": "completed"
    },
    "tags": []
   },
   "outputs": [
    {
     "data": {
      "application/javascript": [
       "parent.postMessage({\"jupyterEvent\": \"custom.exercise_interaction\", \"data\": {\"outcomeType\": 1, \"valueTowardsCompletion\": 0.3333333333333333, \"interactionType\": 1, \"questionType\": 4, \"questionId\": \"1_ExamineProvince\", \"learnToolsVersion\": \"0.3.4\", \"failureMessage\": \"\", \"exceptionClass\": \"\", \"trace\": \"\"}}, \"*\")"
      ],
      "text/plain": [
       "<IPython.core.display.Javascript object>"
      ]
     },
     "metadata": {},
     "output_type": "display_data"
    },
    {
     "data": {
      "text/markdown": [
       "<span style=\"color:#33cc33\">Correct:</span> \n",
       "\n",
       "There are inconsistencies that can be fixed by removing white spaces at the beginning and end of cells.  For instance, \"University of Central Florida\" and \" University of Central Florida\" both appear in the column."
      ],
      "text/plain": [
       "Correct: \n",
       "\n",
       "There are inconsistencies that can be fixed by removing white spaces at the beginning and end of cells.  For instance, \"University of Central Florida\" and \" University of Central Florida\" both appear in the column."
      ]
     },
     "metadata": {},
     "output_type": "display_data"
    }
   ],
   "source": [
    "# Check your answer (Run this code cell to receive credit!)\n",
    "q1.check()"
   ]
  },
  {
   "cell_type": "code",
   "execution_count": 6,
   "id": "8713f6b0",
   "metadata": {
    "execution": {
     "iopub.execute_input": "2024-10-15T04:42:46.356151Z",
     "iopub.status.busy": "2024-10-15T04:42:46.355749Z",
     "iopub.status.idle": "2024-10-15T04:42:46.360360Z",
     "shell.execute_reply": "2024-10-15T04:42:46.359264Z"
    },
    "papermill": {
     "duration": 0.013398,
     "end_time": "2024-10-15T04:42:46.362513",
     "exception": false,
     "start_time": "2024-10-15T04:42:46.349115",
     "status": "completed"
    },
    "tags": []
   },
   "outputs": [],
   "source": [
    "# Line below will give you a hint\n",
    "#q1.hint()"
   ]
  },
  {
   "cell_type": "markdown",
   "id": "c8b17ff8",
   "metadata": {
    "papermill": {
     "duration": 0.005001,
     "end_time": "2024-10-15T04:42:46.373005",
     "exception": false,
     "start_time": "2024-10-15T04:42:46.368004",
     "status": "completed"
    },
    "tags": []
   },
   "source": [
    "# 2) Do some text pre-processing\n",
    "\n",
    "Convert every entry in the \"Graduated from\" column in the `professors` DataFrame to remove white spaces at the beginning and end of cells."
   ]
  },
  {
   "cell_type": "code",
   "execution_count": 7,
   "id": "7576b4e9",
   "metadata": {
    "execution": {
     "iopub.execute_input": "2024-10-15T04:42:46.385809Z",
     "iopub.status.busy": "2024-10-15T04:42:46.384812Z",
     "iopub.status.idle": "2024-10-15T04:42:46.394205Z",
     "shell.execute_reply": "2024-10-15T04:42:46.393158Z"
    },
    "papermill": {
     "duration": 0.018069,
     "end_time": "2024-10-15T04:42:46.396358",
     "exception": false,
     "start_time": "2024-10-15T04:42:46.378289",
     "status": "completed"
    },
    "tags": []
   },
   "outputs": [
    {
     "data": {
      "application/javascript": [
       "parent.postMessage({\"jupyterEvent\": \"custom.exercise_interaction\", \"data\": {\"outcomeType\": 2, \"failureMessage\": \"Incorrect value for `professors`\", \"interactionType\": 1, \"questionType\": 1, \"questionId\": \"2_TextProcessing\", \"learnToolsVersion\": \"0.3.4\", \"valueTowardsCompletion\": 0.0, \"exceptionClass\": \"\", \"trace\": \"\"}}, \"*\")"
      ],
      "text/plain": [
       "<IPython.core.display.Javascript object>"
      ]
     },
     "metadata": {},
     "output_type": "display_data"
    },
    {
     "data": {
      "text/markdown": [
       "<span style=\"color:#cc3333\">Incorrect:</span> Incorrect value for `professors`"
      ],
      "text/plain": [
       "Incorrect: Incorrect value for `professors`"
      ]
     },
     "metadata": {},
     "output_type": "display_data"
    }
   ],
   "source": [
    "# TODO: Your code here\n",
    "____\n",
    "\n",
    "# Check your answer\n",
    "q2.check()"
   ]
  },
  {
   "cell_type": "code",
   "execution_count": 8,
   "id": "9b5a32be",
   "metadata": {
    "execution": {
     "iopub.execute_input": "2024-10-15T04:42:46.409530Z",
     "iopub.status.busy": "2024-10-15T04:42:46.408724Z",
     "iopub.status.idle": "2024-10-15T04:42:46.413235Z",
     "shell.execute_reply": "2024-10-15T04:42:46.412169Z"
    },
    "papermill": {
     "duration": 0.013342,
     "end_time": "2024-10-15T04:42:46.415374",
     "exception": false,
     "start_time": "2024-10-15T04:42:46.402032",
     "status": "completed"
    },
    "tags": []
   },
   "outputs": [],
   "source": [
    "# Lines below will give you a hint or solution code\n",
    "#q2.hint()\n",
    "#q2.solution()"
   ]
  },
  {
   "cell_type": "markdown",
   "id": "99643d37",
   "metadata": {
    "papermill": {
     "duration": 0.005197,
     "end_time": "2024-10-15T04:42:46.426113",
     "exception": false,
     "start_time": "2024-10-15T04:42:46.420916",
     "status": "completed"
    },
    "tags": []
   },
   "source": [
    "# 3) Continue working with countries\n",
    "\n",
    "In the tutorial, we focused on cleaning up inconsistencies in the \"Country\" column.  Run the code cell below to view the list of unique values that we ended with."
   ]
  },
  {
   "cell_type": "code",
   "execution_count": 9,
   "id": "c48d5a80",
   "metadata": {
    "execution": {
     "iopub.execute_input": "2024-10-15T04:42:46.439514Z",
     "iopub.status.busy": "2024-10-15T04:42:46.438487Z",
     "iopub.status.idle": "2024-10-15T04:42:46.446371Z",
     "shell.execute_reply": "2024-10-15T04:42:46.445344Z"
    },
    "papermill": {
     "duration": 0.016845,
     "end_time": "2024-10-15T04:42:46.448494",
     "exception": false,
     "start_time": "2024-10-15T04:42:46.431649",
     "status": "completed"
    },
    "tags": []
   },
   "outputs": [
    {
     "data": {
      "text/plain": [
       "array(['australia', 'austria', 'canada', 'china', 'finland', 'france',\n",
       "       'germany', 'greece', 'hongkong', 'ireland', 'italy', 'japan',\n",
       "       'macau', 'malaysia', 'mauritius', 'netherland', 'new zealand',\n",
       "       'norway', 'pakistan', 'portugal', 'russian federation',\n",
       "       'saudi arabia', 'scotland', 'singapore', 'south korea', 'spain',\n",
       "       'sweden', 'thailand', 'turkey', 'uk', 'urbana', 'usa', 'usofa'],\n",
       "      dtype=object)"
      ]
     },
     "execution_count": 9,
     "metadata": {},
     "output_type": "execute_result"
    }
   ],
   "source": [
    "# get all the unique values in the 'City' column\n",
    "countries = professors['Country'].unique()\n",
    "\n",
    "# sort them alphabetically and then take a closer look\n",
    "countries.sort()\n",
    "countries"
   ]
  },
  {
   "cell_type": "markdown",
   "id": "1b034dc1",
   "metadata": {
    "papermill": {
     "duration": 0.005323,
     "end_time": "2024-10-15T04:42:46.459514",
     "exception": false,
     "start_time": "2024-10-15T04:42:46.454191",
     "status": "completed"
    },
    "tags": []
   },
   "source": [
    "Take another look at the \"Country\" column and see if there's any more data cleaning we need to do.\n",
    "\n",
    "It looks like 'usa' and 'usofa' should be the same country.  Correct the \"Country\" column in the dataframe to replace 'usofa' with 'usa'.\n",
    "\n",
    "**Use the most recent version of the DataFrame (with the whitespaces at the beginning and end of cells removed) from question 2.**"
   ]
  },
  {
   "cell_type": "code",
   "execution_count": 10,
   "id": "5d83276c",
   "metadata": {
    "execution": {
     "iopub.execute_input": "2024-10-15T04:42:46.472894Z",
     "iopub.status.busy": "2024-10-15T04:42:46.471939Z",
     "iopub.status.idle": "2024-10-15T04:42:46.481429Z",
     "shell.execute_reply": "2024-10-15T04:42:46.480405Z"
    },
    "papermill": {
     "duration": 0.018618,
     "end_time": "2024-10-15T04:42:46.483694",
     "exception": false,
     "start_time": "2024-10-15T04:42:46.465076",
     "status": "completed"
    },
    "tags": []
   },
   "outputs": [
    {
     "data": {
      "application/javascript": [
       "parent.postMessage({\"jupyterEvent\": \"custom.exercise_interaction\", \"data\": {\"outcomeType\": 2, \"failureMessage\": \"Incorrect value for `professors`\", \"interactionType\": 1, \"questionType\": 1, \"questionId\": \"3_WorkingWithCities\", \"learnToolsVersion\": \"0.3.4\", \"valueTowardsCompletion\": 0.0, \"exceptionClass\": \"\", \"trace\": \"\"}}, \"*\")"
      ],
      "text/plain": [
       "<IPython.core.display.Javascript object>"
      ]
     },
     "metadata": {},
     "output_type": "display_data"
    },
    {
     "data": {
      "text/markdown": [
       "<span style=\"color:#cc3333\">Incorrect:</span> Incorrect value for `professors`"
      ],
      "text/plain": [
       "Incorrect: Incorrect value for `professors`"
      ]
     },
     "metadata": {},
     "output_type": "display_data"
    }
   ],
   "source": [
    "# TODO: Your code here!\n",
    "____\n",
    "\n",
    "# Check your answer\n",
    "q3.check()"
   ]
  },
  {
   "cell_type": "code",
   "execution_count": 11,
   "id": "b455db5e",
   "metadata": {
    "execution": {
     "iopub.execute_input": "2024-10-15T04:42:46.497028Z",
     "iopub.status.busy": "2024-10-15T04:42:46.496614Z",
     "iopub.status.idle": "2024-10-15T04:42:46.501003Z",
     "shell.execute_reply": "2024-10-15T04:42:46.499967Z"
    },
    "papermill": {
     "duration": 0.013523,
     "end_time": "2024-10-15T04:42:46.503201",
     "exception": false,
     "start_time": "2024-10-15T04:42:46.489678",
     "status": "completed"
    },
    "tags": []
   },
   "outputs": [],
   "source": [
    "# Lines below will give you a hint or solution code\n",
    "#q3.hint()\n",
    "#q3.solution()"
   ]
  },
  {
   "cell_type": "markdown",
   "id": "ea689a97",
   "metadata": {
    "papermill": {
     "duration": 0.005557,
     "end_time": "2024-10-15T04:42:46.514731",
     "exception": false,
     "start_time": "2024-10-15T04:42:46.509174",
     "status": "completed"
    },
    "tags": []
   },
   "source": [
    "# Congratulations!\n",
    "\n",
    "Congratulations for completing the **Data Cleaning** course on Kaggle Learn!\n",
    "\n",
    "To practice your new skills, you're encouraged to download and investigate some of [Kaggle's Datasets](https://www.kaggle.com/datasets)."
   ]
  },
  {
   "cell_type": "markdown",
   "id": "095b2351",
   "metadata": {
    "papermill": {
     "duration": 0.005676,
     "end_time": "2024-10-15T04:42:46.526124",
     "exception": false,
     "start_time": "2024-10-15T04:42:46.520448",
     "status": "completed"
    },
    "tags": []
   },
   "source": [
    "---\n",
    "\n",
    "\n",
    "\n",
    "\n",
    "*Have questions or comments? Visit the [course discussion forum](https://www.kaggle.com/learn/data-cleaning/discussion) to chat with other learners.*"
   ]
  }
 ],
 "metadata": {
  "kaggle": {
   "accelerator": "none",
   "dataSources": [
    {
     "datasetId": 819513,
     "sourceId": 1402182,
     "sourceType": "datasetVersion"
    }
   ],
   "isGpuEnabled": false,
   "isInternetEnabled": false,
   "language": "python",
   "sourceType": "notebook"
  },
  "kernelspec": {
   "display_name": "Python 3",
   "language": "python",
   "name": "python3"
  },
  "language_info": {
   "codemirror_mode": {
    "name": "ipython",
    "version": 3
   },
   "file_extension": ".py",
   "mimetype": "text/x-python",
   "name": "python",
   "nbconvert_exporter": "python",
   "pygments_lexer": "ipython3",
   "version": "3.10.14"
  },
  "papermill": {
   "default_parameters": {},
   "duration": 4.869209,
   "end_time": "2024-10-15T04:42:47.053159",
   "environment_variables": {},
   "exception": null,
   "input_path": "__notebook__.ipynb",
   "output_path": "__notebook__.ipynb",
   "parameters": {},
   "start_time": "2024-10-15T04:42:42.183950",
   "version": "2.6.0"
  }
 },
 "nbformat": 4,
 "nbformat_minor": 5
}
