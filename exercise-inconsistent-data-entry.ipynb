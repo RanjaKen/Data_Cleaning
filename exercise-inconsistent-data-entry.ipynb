{
 "cells": [
  {
   "cell_type": "markdown",
   "id": "02d63a2a",
   "metadata": {
    "papermill": {
     "duration": 0.008263,
     "end_time": "2024-10-17T07:52:59.941589",
     "exception": false,
     "start_time": "2024-10-17T07:52:59.933326",
     "status": "completed"
    },
    "tags": []
   },
   "source": [
    "**This notebook is an exercise in the [Data Cleaning](https://www.kaggle.com/learn/data-cleaning) course.  You can reference the tutorial at [this link](https://www.kaggle.com/alexisbcook/inconsistent-data-entry).**\n",
    "\n",
    "---\n"
   ]
  },
  {
   "cell_type": "markdown",
   "id": "ae0a34f1",
   "metadata": {
    "papermill": {
     "duration": 0.006459,
     "end_time": "2024-10-17T07:52:59.955064",
     "exception": false,
     "start_time": "2024-10-17T07:52:59.948605",
     "status": "completed"
    },
    "tags": []
   },
   "source": [
    "In this exercise, you'll apply what you learned in the **Inconsistent data entry** tutorial.\n",
    "\n",
    "# Setup\n",
    "\n",
    "The questions below will give you feedback on your work. Run the following cell to set up the feedback system."
   ]
  },
  {
   "cell_type": "code",
   "execution_count": 1,
   "id": "a9f85dc2",
   "metadata": {
    "execution": {
     "iopub.execute_input": "2024-10-17T07:52:59.970263Z",
     "iopub.status.busy": "2024-10-17T07:52:59.969811Z",
     "iopub.status.idle": "2024-10-17T07:53:00.965649Z",
     "shell.execute_reply": "2024-10-17T07:53:00.964019Z"
    },
    "papermill": {
     "duration": 1.006774,
     "end_time": "2024-10-17T07:53:00.968581",
     "exception": false,
     "start_time": "2024-10-17T07:52:59.961807",
     "status": "completed"
    },
    "tags": []
   },
   "outputs": [
    {
     "name": "stdout",
     "output_type": "stream",
     "text": [
      "Setup Complete\n"
     ]
    },
    {
     "name": "stderr",
     "output_type": "stream",
     "text": [
      "/opt/conda/lib/python3.10/site-packages/fuzzywuzzy/fuzz.py:11: UserWarning: Using slow pure-python SequenceMatcher. Install python-Levenshtein to remove this warning\n",
      "  warnings.warn('Using slow pure-python SequenceMatcher. Install python-Levenshtein to remove this warning')\n"
     ]
    }
   ],
   "source": [
    "from learntools.core import binder\n",
    "binder.bind(globals())\n",
    "from learntools.data_cleaning.ex5 import *\n",
    "print(\"Setup Complete\")"
   ]
  },
  {
   "cell_type": "markdown",
   "id": "d8bf4486",
   "metadata": {
    "papermill": {
     "duration": 0.006766,
     "end_time": "2024-10-17T07:53:00.982430",
     "exception": false,
     "start_time": "2024-10-17T07:53:00.975664",
     "status": "completed"
    },
    "tags": []
   },
   "source": [
    "# Get our environment set up\n",
    "\n",
    "The first thing we'll need to do is load in the libraries and dataset we'll be using.  We use the same dataset from the tutorial."
   ]
  },
  {
   "cell_type": "code",
   "execution_count": 2,
   "id": "01f05999",
   "metadata": {
    "execution": {
     "iopub.execute_input": "2024-10-17T07:53:00.998036Z",
     "iopub.status.busy": "2024-10-17T07:53:00.997589Z",
     "iopub.status.idle": "2024-10-17T07:53:01.014252Z",
     "shell.execute_reply": "2024-10-17T07:53:01.013034Z"
    },
    "papermill": {
     "duration": 0.027709,
     "end_time": "2024-10-17T07:53:01.016970",
     "exception": false,
     "start_time": "2024-10-17T07:53:00.989261",
     "status": "completed"
    },
    "tags": []
   },
   "outputs": [],
   "source": [
    "# modules we'll use\n",
    "import pandas as pd\n",
    "import numpy as np\n",
    "\n",
    "# helpful modules\n",
    "import fuzzywuzzy\n",
    "from fuzzywuzzy import process\n",
    "import charset_normalizer\n",
    "\n",
    "# read in all our data\n",
    "professors = pd.read_csv(\"../input/pakistan-intellectual-capital/pakistan_intellectual_capital.csv\")\n",
    "\n",
    "# set seed for reproducibility\n",
    "np.random.seed(0)"
   ]
  },
  {
   "cell_type": "markdown",
   "id": "63b84913",
   "metadata": {
    "papermill": {
     "duration": 0.006603,
     "end_time": "2024-10-17T07:53:01.030750",
     "exception": false,
     "start_time": "2024-10-17T07:53:01.024147",
     "status": "completed"
    },
    "tags": []
   },
   "source": [
    "Next, we'll redo all of the work that we did in the tutorial."
   ]
  },
  {
   "cell_type": "code",
   "execution_count": 3,
   "id": "9faccfcf",
   "metadata": {
    "execution": {
     "iopub.execute_input": "2024-10-17T07:53:01.046559Z",
     "iopub.status.busy": "2024-10-17T07:53:01.046150Z",
     "iopub.status.idle": "2024-10-17T07:53:01.066103Z",
     "shell.execute_reply": "2024-10-17T07:53:01.064774Z"
    },
    "papermill": {
     "duration": 0.030809,
     "end_time": "2024-10-17T07:53:01.068533",
     "exception": false,
     "start_time": "2024-10-17T07:53:01.037724",
     "status": "completed"
    },
    "tags": []
   },
   "outputs": [
    {
     "name": "stdout",
     "output_type": "stream",
     "text": [
      "All done!\n"
     ]
    }
   ],
   "source": [
    "# convert to lower case\n",
    "professors['Country'] = professors['Country'].str.lower()\n",
    "# remove trailing white spaces\n",
    "professors['Country'] = professors['Country'].str.strip()\n",
    "\n",
    "# get the top 10 closest matches to \"south korea\"\n",
    "countries = professors['Country'].unique()\n",
    "matches = fuzzywuzzy.process.extract(\"south korea\", countries, limit=10, scorer=fuzzywuzzy.fuzz.token_sort_ratio)\n",
    "\n",
    "def replace_matches_in_column(df, column, string_to_match, min_ratio = 47):\n",
    "    # get a list of unique strings\n",
    "    strings = df[column].unique()\n",
    "    \n",
    "    # get the top 10 closest matches to our input string\n",
    "    matches = fuzzywuzzy.process.extract(string_to_match, strings, \n",
    "                                         limit=10, scorer=fuzzywuzzy.fuzz.token_sort_ratio)\n",
    "\n",
    "    # only get matches with a ratio > 90\n",
    "    close_matches = [matches[0] for matches in matches if matches[1] >= min_ratio]\n",
    "\n",
    "    # get the rows of all the close matches in our dataframe\n",
    "    rows_with_matches = df[column].isin(close_matches)\n",
    "\n",
    "    # replace all rows with close matches with the input matches \n",
    "    df.loc[rows_with_matches, column] = string_to_match\n",
    "    \n",
    "    # let us know the function's done\n",
    "    print(\"All done!\")\n",
    "    \n",
    "replace_matches_in_column(df=professors, column='Country', string_to_match=\"south korea\")\n",
    "countries = professors['Country'].unique()"
   ]
  },
  {
   "cell_type": "markdown",
   "id": "e931f56b",
   "metadata": {
    "papermill": {
     "duration": 0.00675,
     "end_time": "2024-10-17T07:53:01.083530",
     "exception": false,
     "start_time": "2024-10-17T07:53:01.076780",
     "status": "completed"
    },
    "tags": []
   },
   "source": [
    "# 1) Examine another column\n",
    "\n",
    "Write code below to take a look at all the unique values in the \"Graduated from\" column."
   ]
  },
  {
   "cell_type": "code",
   "execution_count": 4,
   "id": "4afc6598",
   "metadata": {
    "execution": {
     "iopub.execute_input": "2024-10-17T07:53:01.099256Z",
     "iopub.status.busy": "2024-10-17T07:53:01.098829Z",
     "iopub.status.idle": "2024-10-17T07:53:01.103573Z",
     "shell.execute_reply": "2024-10-17T07:53:01.102564Z"
    },
    "papermill": {
     "duration": 0.015376,
     "end_time": "2024-10-17T07:53:01.105858",
     "exception": false,
     "start_time": "2024-10-17T07:53:01.090482",
     "status": "completed"
    },
    "tags": []
   },
   "outputs": [],
   "source": [
    "# TODO: Your code here"
   ]
  },
  {
   "cell_type": "markdown",
   "id": "b6b33d26",
   "metadata": {
    "papermill": {
     "duration": 0.006765,
     "end_time": "2024-10-17T07:53:01.119739",
     "exception": false,
     "start_time": "2024-10-17T07:53:01.112974",
     "status": "completed"
    },
    "tags": []
   },
   "source": [
    "Do you notice any inconsistencies in the data?  Can any of the inconsistencies in the data be fixed by removing white spaces at the beginning and end of cells?\n",
    "\n",
    "Once you have answered these questions, run the code cell below to get credit for your work."
   ]
  },
  {
   "cell_type": "code",
   "execution_count": 5,
   "id": "cfde813e",
   "metadata": {
    "execution": {
     "iopub.execute_input": "2024-10-17T07:53:01.135513Z",
     "iopub.status.busy": "2024-10-17T07:53:01.135096Z",
     "iopub.status.idle": "2024-10-17T07:53:01.146674Z",
     "shell.execute_reply": "2024-10-17T07:53:01.145634Z"
    },
    "papermill": {
     "duration": 0.022302,
     "end_time": "2024-10-17T07:53:01.149056",
     "exception": false,
     "start_time": "2024-10-17T07:53:01.126754",
     "status": "completed"
    },
    "tags": []
   },
   "outputs": [
    {
     "data": {
      "application/javascript": [
       "parent.postMessage({\"jupyterEvent\": \"custom.exercise_interaction\", \"data\": {\"outcomeType\": 1, \"valueTowardsCompletion\": 0.3333333333333333, \"interactionType\": 1, \"questionType\": 4, \"questionId\": \"1_ExamineProvince\", \"learnToolsVersion\": \"0.3.4\", \"failureMessage\": \"\", \"exceptionClass\": \"\", \"trace\": \"\"}}, \"*\")"
      ],
      "text/plain": [
       "<IPython.core.display.Javascript object>"
      ]
     },
     "metadata": {},
     "output_type": "display_data"
    },
    {
     "data": {
      "text/markdown": [
       "<span style=\"color:#33cc33\">Correct:</span> \n",
       "\n",
       "There are inconsistencies that can be fixed by removing white spaces at the beginning and end of cells.  For instance, \"University of Central Florida\" and \" University of Central Florida\" both appear in the column."
      ],
      "text/plain": [
       "Correct: \n",
       "\n",
       "There are inconsistencies that can be fixed by removing white spaces at the beginning and end of cells.  For instance, \"University of Central Florida\" and \" University of Central Florida\" both appear in the column."
      ]
     },
     "metadata": {},
     "output_type": "display_data"
    }
   ],
   "source": [
    "# Check your answer (Run this code cell to receive credit!)\n",
    "q1.check()"
   ]
  },
  {
   "cell_type": "code",
   "execution_count": 6,
   "id": "3a20061c",
   "metadata": {
    "execution": {
     "iopub.execute_input": "2024-10-17T07:53:01.165780Z",
     "iopub.status.busy": "2024-10-17T07:53:01.165318Z",
     "iopub.status.idle": "2024-10-17T07:53:01.170132Z",
     "shell.execute_reply": "2024-10-17T07:53:01.169038Z"
    },
    "papermill": {
     "duration": 0.016085,
     "end_time": "2024-10-17T07:53:01.172530",
     "exception": false,
     "start_time": "2024-10-17T07:53:01.156445",
     "status": "completed"
    },
    "tags": []
   },
   "outputs": [],
   "source": [
    "# Line below will give you a hint\n",
    "#q1.hint()"
   ]
  },
  {
   "cell_type": "markdown",
   "id": "930da9ab",
   "metadata": {
    "papermill": {
     "duration": 0.007269,
     "end_time": "2024-10-17T07:53:01.187993",
     "exception": false,
     "start_time": "2024-10-17T07:53:01.180724",
     "status": "completed"
    },
    "tags": []
   },
   "source": [
    "# 2) Do some text pre-processing\n",
    "\n",
    "Convert every entry in the \"Graduated from\" column in the `professors` DataFrame to remove white spaces at the beginning and end of cells."
   ]
  },
  {
   "cell_type": "code",
   "execution_count": 7,
   "id": "a11761b9",
   "metadata": {
    "execution": {
     "iopub.execute_input": "2024-10-17T07:53:01.204856Z",
     "iopub.status.busy": "2024-10-17T07:53:01.204392Z",
     "iopub.status.idle": "2024-10-17T07:53:01.216789Z",
     "shell.execute_reply": "2024-10-17T07:53:01.215735Z"
    },
    "papermill": {
     "duration": 0.023895,
     "end_time": "2024-10-17T07:53:01.219355",
     "exception": false,
     "start_time": "2024-10-17T07:53:01.195460",
     "status": "completed"
    },
    "tags": []
   },
   "outputs": [
    {
     "data": {
      "application/javascript": [
       "parent.postMessage({\"jupyterEvent\": \"custom.exercise_interaction\", \"data\": {\"outcomeType\": 1, \"valueTowardsCompletion\": 0.3333333333333333, \"interactionType\": 1, \"questionType\": 1, \"questionId\": \"2_TextProcessing\", \"learnToolsVersion\": \"0.3.4\", \"failureMessage\": \"\", \"exceptionClass\": \"\", \"trace\": \"\"}}, \"*\")"
      ],
      "text/plain": [
       "<IPython.core.display.Javascript object>"
      ]
     },
     "metadata": {},
     "output_type": "display_data"
    },
    {
     "data": {
      "text/markdown": [
       "<span style=\"color:#33cc33\">Correct</span>"
      ],
      "text/plain": [
       "Correct"
      ]
     },
     "metadata": {},
     "output_type": "display_data"
    }
   ],
   "source": [
    "# TODO: Your code here\n",
    "professors[\"Graduated from\"] = professors[\"Graduated from\"].str.strip()\n",
    "# Check your answer\n",
    "q2.check()"
   ]
  },
  {
   "cell_type": "code",
   "execution_count": 8,
   "id": "84c2cef6",
   "metadata": {
    "execution": {
     "iopub.execute_input": "2024-10-17T07:53:01.237400Z",
     "iopub.status.busy": "2024-10-17T07:53:01.236639Z",
     "iopub.status.idle": "2024-10-17T07:53:01.241661Z",
     "shell.execute_reply": "2024-10-17T07:53:01.240584Z"
    },
    "papermill": {
     "duration": 0.016637,
     "end_time": "2024-10-17T07:53:01.244115",
     "exception": false,
     "start_time": "2024-10-17T07:53:01.227478",
     "status": "completed"
    },
    "tags": []
   },
   "outputs": [],
   "source": [
    "# Lines below will give you a hint or solution code\n",
    "#q2.hint()\n",
    "#q2.solution()"
   ]
  },
  {
   "cell_type": "markdown",
   "id": "6d28bcc8",
   "metadata": {
    "papermill": {
     "duration": 0.00759,
     "end_time": "2024-10-17T07:53:01.259559",
     "exception": false,
     "start_time": "2024-10-17T07:53:01.251969",
     "status": "completed"
    },
    "tags": []
   },
   "source": [
    "# 3) Continue working with countries\n",
    "\n",
    "In the tutorial, we focused on cleaning up inconsistencies in the \"Country\" column.  Run the code cell below to view the list of unique values that we ended with."
   ]
  },
  {
   "cell_type": "code",
   "execution_count": 9,
   "id": "33bee65f",
   "metadata": {
    "execution": {
     "iopub.execute_input": "2024-10-17T07:53:01.277181Z",
     "iopub.status.busy": "2024-10-17T07:53:01.276679Z",
     "iopub.status.idle": "2024-10-17T07:53:01.284987Z",
     "shell.execute_reply": "2024-10-17T07:53:01.283932Z"
    },
    "papermill": {
     "duration": 0.019804,
     "end_time": "2024-10-17T07:53:01.287206",
     "exception": false,
     "start_time": "2024-10-17T07:53:01.267402",
     "status": "completed"
    },
    "tags": []
   },
   "outputs": [
    {
     "data": {
      "text/plain": [
       "array(['australia', 'austria', 'canada', 'china', 'finland', 'france',\n",
       "       'germany', 'greece', 'hongkong', 'ireland', 'italy', 'japan',\n",
       "       'macau', 'malaysia', 'mauritius', 'netherland', 'new zealand',\n",
       "       'norway', 'pakistan', 'portugal', 'russian federation',\n",
       "       'saudi arabia', 'scotland', 'singapore', 'south korea', 'spain',\n",
       "       'sweden', 'thailand', 'turkey', 'uk', 'urbana', 'usa', 'usofa'],\n",
       "      dtype=object)"
      ]
     },
     "execution_count": 9,
     "metadata": {},
     "output_type": "execute_result"
    }
   ],
   "source": [
    "# get all the unique values in the 'City' column\n",
    "countries = professors['Country'].unique()\n",
    "\n",
    "# sort them alphabetically and then take a closer look\n",
    "countries.sort()\n",
    "countries"
   ]
  },
  {
   "cell_type": "markdown",
   "id": "81fdcd09",
   "metadata": {
    "papermill": {
     "duration": 0.007652,
     "end_time": "2024-10-17T07:53:01.302818",
     "exception": false,
     "start_time": "2024-10-17T07:53:01.295166",
     "status": "completed"
    },
    "tags": []
   },
   "source": [
    "Take another look at the \"Country\" column and see if there's any more data cleaning we need to do.\n",
    "\n",
    "It looks like 'usa' and 'usofa' should be the same country.  Correct the \"Country\" column in the dataframe to replace 'usofa' with 'usa'.\n",
    "\n",
    "**Use the most recent version of the DataFrame (with the whitespaces at the beginning and end of cells removed) from question 2.**"
   ]
  },
  {
   "cell_type": "code",
   "execution_count": 10,
   "id": "5025c9d6",
   "metadata": {
    "execution": {
     "iopub.execute_input": "2024-10-17T07:53:01.321025Z",
     "iopub.status.busy": "2024-10-17T07:53:01.320562Z",
     "iopub.status.idle": "2024-10-17T07:53:01.336658Z",
     "shell.execute_reply": "2024-10-17T07:53:01.335618Z"
    },
    "papermill": {
     "duration": 0.028326,
     "end_time": "2024-10-17T07:53:01.339067",
     "exception": false,
     "start_time": "2024-10-17T07:53:01.310741",
     "status": "completed"
    },
    "tags": []
   },
   "outputs": [
    {
     "name": "stdout",
     "output_type": "stream",
     "text": [
      "All done!\n"
     ]
    },
    {
     "data": {
      "application/javascript": [
       "parent.postMessage({\"jupyterEvent\": \"custom.exercise_interaction\", \"data\": {\"outcomeType\": 1, \"valueTowardsCompletion\": 0.3333333333333333, \"interactionType\": 1, \"questionType\": 1, \"questionId\": \"3_WorkingWithCities\", \"learnToolsVersion\": \"0.3.4\", \"failureMessage\": \"\", \"exceptionClass\": \"\", \"trace\": \"\"}}, \"*\")"
      ],
      "text/plain": [
       "<IPython.core.display.Javascript object>"
      ]
     },
     "metadata": {},
     "output_type": "display_data"
    },
    {
     "data": {
      "text/markdown": [
       "<span style=\"color:#33cc33\">Correct</span>"
      ],
      "text/plain": [
       "Correct"
      ]
     },
     "metadata": {},
     "output_type": "display_data"
    }
   ],
   "source": [
    "# TODO: Your code here!\n",
    "\n",
    "mitovu = fuzzywuzzy.process.extract(\"usa\", countries, limit=10, scorer=fuzzywuzzy.fuzz.token_sort_ratio)\n",
    "replace_matches_in_column(df=professors, column=\"Country\", string_to_match=\"usa\", min_ratio= 70)\n",
    "# Check your answer\n",
    "q3.check()"
   ]
  },
  {
   "cell_type": "code",
   "execution_count": 11,
   "id": "f5c92a6c",
   "metadata": {
    "execution": {
     "iopub.execute_input": "2024-10-17T07:53:01.357682Z",
     "iopub.status.busy": "2024-10-17T07:53:01.357264Z",
     "iopub.status.idle": "2024-10-17T07:53:01.362109Z",
     "shell.execute_reply": "2024-10-17T07:53:01.361012Z"
    },
    "papermill": {
     "duration": 0.017085,
     "end_time": "2024-10-17T07:53:01.364562",
     "exception": false,
     "start_time": "2024-10-17T07:53:01.347477",
     "status": "completed"
    },
    "tags": []
   },
   "outputs": [],
   "source": [
    "# Lines below will give you a hint or solution code\n",
    "#q3.hint()\n",
    "#q3.solution()"
   ]
  },
  {
   "cell_type": "markdown",
   "id": "52f83005",
   "metadata": {
    "papermill": {
     "duration": 0.00807,
     "end_time": "2024-10-17T07:53:01.380879",
     "exception": false,
     "start_time": "2024-10-17T07:53:01.372809",
     "status": "completed"
    },
    "tags": []
   },
   "source": [
    "# Congratulations!\n",
    "\n",
    "Congratulations for completing the **Data Cleaning** course on Kaggle Learn!\n",
    "\n",
    "To practice your new skills, you're encouraged to download and investigate some of [Kaggle's Datasets](https://www.kaggle.com/datasets)."
   ]
  },
  {
   "cell_type": "markdown",
   "id": "c1d37ca2",
   "metadata": {
    "papermill": {
     "duration": 0.008055,
     "end_time": "2024-10-17T07:53:01.397254",
     "exception": false,
     "start_time": "2024-10-17T07:53:01.389199",
     "status": "completed"
    },
    "tags": []
   },
   "source": [
    "---\n",
    "\n",
    "\n",
    "\n",
    "\n",
    "*Have questions or comments? Visit the [course discussion forum](https://www.kaggle.com/learn/data-cleaning/discussion) to chat with other learners.*"
   ]
  }
 ],
 "metadata": {
  "kaggle": {
   "accelerator": "none",
   "dataSources": [
    {
     "datasetId": 819513,
     "sourceId": 1402182,
     "sourceType": "datasetVersion"
    }
   ],
   "isGpuEnabled": false,
   "isInternetEnabled": false,
   "language": "python",
   "sourceType": "notebook"
  },
  "kernelspec": {
   "display_name": "Python 3",
   "language": "python",
   "name": "python3"
  },
  "language_info": {
   "codemirror_mode": {
    "name": "ipython",
    "version": 3
   },
   "file_extension": ".py",
   "mimetype": "text/x-python",
   "name": "python",
   "nbconvert_exporter": "python",
   "pygments_lexer": "ipython3",
   "version": "3.10.14"
  },
  "papermill": {
   "default_parameters": {},
   "duration": 4.965081,
   "end_time": "2024-10-17T07:53:01.927474",
   "environment_variables": {},
   "exception": null,
   "input_path": "__notebook__.ipynb",
   "output_path": "__notebook__.ipynb",
   "parameters": {},
   "start_time": "2024-10-17T07:52:56.962393",
   "version": "2.6.0"
  }
 },
 "nbformat": 4,
 "nbformat_minor": 5
}
