{
 "cells": [
  {
   "cell_type": "markdown",
   "id": "11fe92b0",
   "metadata": {
    "papermill": {
     "duration": 0.005559,
     "end_time": "2024-10-16T17:01:28.487663",
     "exception": false,
     "start_time": "2024-10-16T17:01:28.482104",
     "status": "completed"
    },
    "tags": []
   },
   "source": [
    "**This notebook is an exercise in the [Data Cleaning](https://www.kaggle.com/learn/data-cleaning) course.  You can reference the tutorial at [this link](https://www.kaggle.com/alexisbcook/inconsistent-data-entry).**\n",
    "\n",
    "---\n"
   ]
  },
  {
   "cell_type": "markdown",
   "id": "6ee9c3a6",
   "metadata": {
    "papermill": {
     "duration": 0.004714,
     "end_time": "2024-10-16T17:01:28.497545",
     "exception": false,
     "start_time": "2024-10-16T17:01:28.492831",
     "status": "completed"
    },
    "tags": []
   },
   "source": [
    "In this exercise, you'll apply what you learned in the **Inconsistent data entry** tutorial.\n",
    "\n",
    "# Setup\n",
    "\n",
    "The questions below will give you feedback on your work. Run the following cell to set up the feedback system."
   ]
  },
  {
   "cell_type": "code",
   "execution_count": 1,
   "id": "c937e310",
   "metadata": {
    "execution": {
     "iopub.execute_input": "2024-10-16T17:01:28.509225Z",
     "iopub.status.busy": "2024-10-16T17:01:28.508774Z",
     "iopub.status.idle": "2024-10-16T17:01:29.677872Z",
     "shell.execute_reply": "2024-10-16T17:01:29.676350Z"
    },
    "papermill": {
     "duration": 1.178124,
     "end_time": "2024-10-16T17:01:29.680574",
     "exception": false,
     "start_time": "2024-10-16T17:01:28.502450",
     "status": "completed"
    },
    "tags": []
   },
   "outputs": [
    {
     "name": "stdout",
     "output_type": "stream",
     "text": [
      "Setup Complete\n"
     ]
    },
    {
     "name": "stderr",
     "output_type": "stream",
     "text": [
      "/opt/conda/lib/python3.10/site-packages/fuzzywuzzy/fuzz.py:11: UserWarning: Using slow pure-python SequenceMatcher. Install python-Levenshtein to remove this warning\n",
      "  warnings.warn('Using slow pure-python SequenceMatcher. Install python-Levenshtein to remove this warning')\n"
     ]
    }
   ],
   "source": [
    "from learntools.core import binder\n",
    "binder.bind(globals())\n",
    "from learntools.data_cleaning.ex5 import *\n",
    "print(\"Setup Complete\")"
   ]
  },
  {
   "cell_type": "markdown",
   "id": "f4035923",
   "metadata": {
    "papermill": {
     "duration": 0.004828,
     "end_time": "2024-10-16T17:01:29.690626",
     "exception": false,
     "start_time": "2024-10-16T17:01:29.685798",
     "status": "completed"
    },
    "tags": []
   },
   "source": [
    "# Get our environment set up\n",
    "\n",
    "The first thing we'll need to do is load in the libraries and dataset we'll be using.  We use the same dataset from the tutorial."
   ]
  },
  {
   "cell_type": "code",
   "execution_count": 2,
   "id": "73f05ec9",
   "metadata": {
    "execution": {
     "iopub.execute_input": "2024-10-16T17:01:29.702394Z",
     "iopub.status.busy": "2024-10-16T17:01:29.701974Z",
     "iopub.status.idle": "2024-10-16T17:01:29.718255Z",
     "shell.execute_reply": "2024-10-16T17:01:29.716995Z"
    },
    "papermill": {
     "duration": 0.025336,
     "end_time": "2024-10-16T17:01:29.720913",
     "exception": false,
     "start_time": "2024-10-16T17:01:29.695577",
     "status": "completed"
    },
    "tags": []
   },
   "outputs": [],
   "source": [
    "# modules we'll use\n",
    "import pandas as pd\n",
    "import numpy as np\n",
    "\n",
    "# helpful modules\n",
    "import fuzzywuzzy\n",
    "from fuzzywuzzy import process\n",
    "import charset_normalizer\n",
    "\n",
    "# read in all our data\n",
    "professors = pd.read_csv(\"../input/pakistan-intellectual-capital/pakistan_intellectual_capital.csv\")\n",
    "\n",
    "# set seed for reproducibility\n",
    "np.random.seed(0)"
   ]
  },
  {
   "cell_type": "markdown",
   "id": "4dad9e7e",
   "metadata": {
    "papermill": {
     "duration": 0.004768,
     "end_time": "2024-10-16T17:01:29.731103",
     "exception": false,
     "start_time": "2024-10-16T17:01:29.726335",
     "status": "completed"
    },
    "tags": []
   },
   "source": [
    "Next, we'll redo all of the work that we did in the tutorial."
   ]
  },
  {
   "cell_type": "code",
   "execution_count": 3,
   "id": "b0fd8f6a",
   "metadata": {
    "execution": {
     "iopub.execute_input": "2024-10-16T17:01:29.742957Z",
     "iopub.status.busy": "2024-10-16T17:01:29.742568Z",
     "iopub.status.idle": "2024-10-16T17:01:29.760666Z",
     "shell.execute_reply": "2024-10-16T17:01:29.759437Z"
    },
    "papermill": {
     "duration": 0.026972,
     "end_time": "2024-10-16T17:01:29.763078",
     "exception": false,
     "start_time": "2024-10-16T17:01:29.736106",
     "status": "completed"
    },
    "tags": []
   },
   "outputs": [
    {
     "name": "stdout",
     "output_type": "stream",
     "text": [
      "All done!\n"
     ]
    }
   ],
   "source": [
    "# convert to lower case\n",
    "professors['Country'] = professors['Country'].str.lower()\n",
    "# remove trailing white spaces\n",
    "professors['Country'] = professors['Country'].str.strip()\n",
    "\n",
    "# get the top 10 closest matches to \"south korea\"\n",
    "countries = professors['Country'].unique()\n",
    "matches = fuzzywuzzy.process.extract(\"south korea\", countries, limit=10, scorer=fuzzywuzzy.fuzz.token_sort_ratio)\n",
    "\n",
    "def replace_matches_in_column(df, column, string_to_match, min_ratio = 47):\n",
    "    # get a list of unique strings\n",
    "    strings = df[column].unique()\n",
    "    \n",
    "    # get the top 10 closest matches to our input string\n",
    "    matches = fuzzywuzzy.process.extract(string_to_match, strings, \n",
    "                                         limit=10, scorer=fuzzywuzzy.fuzz.token_sort_ratio)\n",
    "\n",
    "    # only get matches with a ratio > 90\n",
    "    close_matches = [matches[0] for matches in matches if matches[1] >= min_ratio]\n",
    "\n",
    "    # get the rows of all the close matches in our dataframe\n",
    "    rows_with_matches = df[column].isin(close_matches)\n",
    "\n",
    "    # replace all rows with close matches with the input matches \n",
    "    df.loc[rows_with_matches, column] = string_to_match\n",
    "    \n",
    "    # let us know the function's done\n",
    "    print(\"All done!\")\n",
    "    \n",
    "replace_matches_in_column(df=professors, column='Country', string_to_match=\"south korea\")\n",
    "countries = professors['Country'].unique()"
   ]
  },
  {
   "cell_type": "markdown",
   "id": "06a10014",
   "metadata": {
    "papermill": {
     "duration": 0.004883,
     "end_time": "2024-10-16T17:01:29.774295",
     "exception": false,
     "start_time": "2024-10-16T17:01:29.769412",
     "status": "completed"
    },
    "tags": []
   },
   "source": [
    "# 1) Examine another column\n",
    "\n",
    "Write code below to take a look at all the unique values in the \"Graduated from\" column."
   ]
  },
  {
   "cell_type": "code",
   "execution_count": 4,
   "id": "236f5e01",
   "metadata": {
    "execution": {
     "iopub.execute_input": "2024-10-16T17:01:29.786801Z",
     "iopub.status.busy": "2024-10-16T17:01:29.785971Z",
     "iopub.status.idle": "2024-10-16T17:01:29.790992Z",
     "shell.execute_reply": "2024-10-16T17:01:29.789721Z"
    },
    "papermill": {
     "duration": 0.013901,
     "end_time": "2024-10-16T17:01:29.793298",
     "exception": false,
     "start_time": "2024-10-16T17:01:29.779397",
     "status": "completed"
    },
    "tags": []
   },
   "outputs": [],
   "source": [
    "# TODO: Your code here"
   ]
  },
  {
   "cell_type": "markdown",
   "id": "2cc033c3",
   "metadata": {
    "papermill": {
     "duration": 0.004777,
     "end_time": "2024-10-16T17:01:29.803268",
     "exception": false,
     "start_time": "2024-10-16T17:01:29.798491",
     "status": "completed"
    },
    "tags": []
   },
   "source": [
    "Do you notice any inconsistencies in the data?  Can any of the inconsistencies in the data be fixed by removing white spaces at the beginning and end of cells?\n",
    "\n",
    "Once you have answered these questions, run the code cell below to get credit for your work."
   ]
  },
  {
   "cell_type": "code",
   "execution_count": 5,
   "id": "031f00d0",
   "metadata": {
    "execution": {
     "iopub.execute_input": "2024-10-16T17:01:29.815143Z",
     "iopub.status.busy": "2024-10-16T17:01:29.814698Z",
     "iopub.status.idle": "2024-10-16T17:01:29.824450Z",
     "shell.execute_reply": "2024-10-16T17:01:29.823380Z"
    },
    "papermill": {
     "duration": 0.018376,
     "end_time": "2024-10-16T17:01:29.826753",
     "exception": false,
     "start_time": "2024-10-16T17:01:29.808377",
     "status": "completed"
    },
    "tags": []
   },
   "outputs": [
    {
     "data": {
      "application/javascript": [
       "parent.postMessage({\"jupyterEvent\": \"custom.exercise_interaction\", \"data\": {\"outcomeType\": 1, \"valueTowardsCompletion\": 0.3333333333333333, \"interactionType\": 1, \"questionType\": 4, \"questionId\": \"1_ExamineProvince\", \"learnToolsVersion\": \"0.3.4\", \"failureMessage\": \"\", \"exceptionClass\": \"\", \"trace\": \"\"}}, \"*\")"
      ],
      "text/plain": [
       "<IPython.core.display.Javascript object>"
      ]
     },
     "metadata": {},
     "output_type": "display_data"
    },
    {
     "data": {
      "text/markdown": [
       "<span style=\"color:#33cc33\">Correct:</span> \n",
       "\n",
       "There are inconsistencies that can be fixed by removing white spaces at the beginning and end of cells.  For instance, \"University of Central Florida\" and \" University of Central Florida\" both appear in the column."
      ],
      "text/plain": [
       "Correct: \n",
       "\n",
       "There are inconsistencies that can be fixed by removing white spaces at the beginning and end of cells.  For instance, \"University of Central Florida\" and \" University of Central Florida\" both appear in the column."
      ]
     },
     "metadata": {},
     "output_type": "display_data"
    }
   ],
   "source": [
    "# Check your answer (Run this code cell to receive credit!)\n",
    "q1.check()"
   ]
  },
  {
   "cell_type": "code",
   "execution_count": 6,
   "id": "47ff87e3",
   "metadata": {
    "execution": {
     "iopub.execute_input": "2024-10-16T17:01:29.840904Z",
     "iopub.status.busy": "2024-10-16T17:01:29.840155Z",
     "iopub.status.idle": "2024-10-16T17:01:29.845278Z",
     "shell.execute_reply": "2024-10-16T17:01:29.844093Z"
    },
    "papermill": {
     "duration": 0.015233,
     "end_time": "2024-10-16T17:01:29.847564",
     "exception": false,
     "start_time": "2024-10-16T17:01:29.832331",
     "status": "completed"
    },
    "tags": []
   },
   "outputs": [],
   "source": [
    "# Line below will give you a hint\n",
    "#q1.hint()"
   ]
  },
  {
   "cell_type": "markdown",
   "id": "0b57c615",
   "metadata": {
    "papermill": {
     "duration": 0.005597,
     "end_time": "2024-10-16T17:01:29.858990",
     "exception": false,
     "start_time": "2024-10-16T17:01:29.853393",
     "status": "completed"
    },
    "tags": []
   },
   "source": [
    "# 2) Do some text pre-processing\n",
    "\n",
    "Convert every entry in the \"Graduated from\" column in the `professors` DataFrame to remove white spaces at the beginning and end of cells."
   ]
  },
  {
   "cell_type": "code",
   "execution_count": 7,
   "id": "615585f6",
   "metadata": {
    "execution": {
     "iopub.execute_input": "2024-10-16T17:01:29.871757Z",
     "iopub.status.busy": "2024-10-16T17:01:29.871328Z",
     "iopub.status.idle": "2024-10-16T17:01:29.882194Z",
     "shell.execute_reply": "2024-10-16T17:01:29.881130Z"
    },
    "papermill": {
     "duration": 0.019872,
     "end_time": "2024-10-16T17:01:29.884394",
     "exception": false,
     "start_time": "2024-10-16T17:01:29.864522",
     "status": "completed"
    },
    "tags": []
   },
   "outputs": [
    {
     "data": {
      "application/javascript": [
       "parent.postMessage({\"jupyterEvent\": \"custom.exercise_interaction\", \"data\": {\"outcomeType\": 2, \"failureMessage\": \"Incorrect value for `professors`\", \"interactionType\": 1, \"questionType\": 1, \"questionId\": \"2_TextProcessing\", \"learnToolsVersion\": \"0.3.4\", \"valueTowardsCompletion\": 0.0, \"exceptionClass\": \"\", \"trace\": \"\"}}, \"*\")"
      ],
      "text/plain": [
       "<IPython.core.display.Javascript object>"
      ]
     },
     "metadata": {},
     "output_type": "display_data"
    },
    {
     "data": {
      "text/markdown": [
       "<span style=\"color:#cc3333\">Incorrect:</span> Incorrect value for `professors`"
      ],
      "text/plain": [
       "Incorrect: Incorrect value for `professors`"
      ]
     },
     "metadata": {},
     "output_type": "display_data"
    }
   ],
   "source": [
    "# TODO: Your code here\n",
    "____\n",
    "\n",
    "# Check your answer\n",
    "q2.check()"
   ]
  },
  {
   "cell_type": "code",
   "execution_count": 8,
   "id": "40579e84",
   "metadata": {
    "execution": {
     "iopub.execute_input": "2024-10-16T17:01:29.898462Z",
     "iopub.status.busy": "2024-10-16T17:01:29.897639Z",
     "iopub.status.idle": "2024-10-16T17:01:29.902948Z",
     "shell.execute_reply": "2024-10-16T17:01:29.901653Z"
    },
    "papermill": {
     "duration": 0.014816,
     "end_time": "2024-10-16T17:01:29.905309",
     "exception": false,
     "start_time": "2024-10-16T17:01:29.890493",
     "status": "completed"
    },
    "tags": []
   },
   "outputs": [],
   "source": [
    "# Lines below will give you a hint or solution code\n",
    "#q2.hint()\n",
    "#q2.solution()"
   ]
  },
  {
   "cell_type": "markdown",
   "id": "c4566adc",
   "metadata": {
    "papermill": {
     "duration": 0.005321,
     "end_time": "2024-10-16T17:01:29.916885",
     "exception": false,
     "start_time": "2024-10-16T17:01:29.911564",
     "status": "completed"
    },
    "tags": []
   },
   "source": [
    "# 3) Continue working with countries\n",
    "\n",
    "In the tutorial, we focused on cleaning up inconsistencies in the \"Country\" column.  Run the code cell below to view the list of unique values that we ended with."
   ]
  },
  {
   "cell_type": "code",
   "execution_count": 9,
   "id": "53384ab8",
   "metadata": {
    "execution": {
     "iopub.execute_input": "2024-10-16T17:01:29.929930Z",
     "iopub.status.busy": "2024-10-16T17:01:29.929505Z",
     "iopub.status.idle": "2024-10-16T17:01:29.937578Z",
     "shell.execute_reply": "2024-10-16T17:01:29.936482Z"
    },
    "papermill": {
     "duration": 0.017485,
     "end_time": "2024-10-16T17:01:29.939969",
     "exception": false,
     "start_time": "2024-10-16T17:01:29.922484",
     "status": "completed"
    },
    "tags": []
   },
   "outputs": [
    {
     "data": {
      "text/plain": [
       "array(['australia', 'austria', 'canada', 'china', 'finland', 'france',\n",
       "       'germany', 'greece', 'hongkong', 'ireland', 'italy', 'japan',\n",
       "       'macau', 'malaysia', 'mauritius', 'netherland', 'new zealand',\n",
       "       'norway', 'pakistan', 'portugal', 'russian federation',\n",
       "       'saudi arabia', 'scotland', 'singapore', 'south korea', 'spain',\n",
       "       'sweden', 'thailand', 'turkey', 'uk', 'urbana', 'usa', 'usofa'],\n",
       "      dtype=object)"
      ]
     },
     "execution_count": 9,
     "metadata": {},
     "output_type": "execute_result"
    }
   ],
   "source": [
    "# get all the unique values in the 'City' column\n",
    "countries = professors['Country'].unique()\n",
    "\n",
    "# sort them alphabetically and then take a closer look\n",
    "countries.sort()\n",
    "countries"
   ]
  },
  {
   "cell_type": "markdown",
   "id": "8def0b61",
   "metadata": {
    "papermill": {
     "duration": 0.005619,
     "end_time": "2024-10-16T17:01:29.951386",
     "exception": false,
     "start_time": "2024-10-16T17:01:29.945767",
     "status": "completed"
    },
    "tags": []
   },
   "source": [
    "Take another look at the \"Country\" column and see if there's any more data cleaning we need to do.\n",
    "\n",
    "It looks like 'usa' and 'usofa' should be the same country.  Correct the \"Country\" column in the dataframe to replace 'usofa' with 'usa'.\n",
    "\n",
    "**Use the most recent version of the DataFrame (with the whitespaces at the beginning and end of cells removed) from question 2.**"
   ]
  },
  {
   "cell_type": "code",
   "execution_count": 10,
   "id": "817df354",
   "metadata": {
    "execution": {
     "iopub.execute_input": "2024-10-16T17:01:29.964764Z",
     "iopub.status.busy": "2024-10-16T17:01:29.964349Z",
     "iopub.status.idle": "2024-10-16T17:01:29.973962Z",
     "shell.execute_reply": "2024-10-16T17:01:29.972858Z"
    },
    "papermill": {
     "duration": 0.018941,
     "end_time": "2024-10-16T17:01:29.976130",
     "exception": false,
     "start_time": "2024-10-16T17:01:29.957189",
     "status": "completed"
    },
    "tags": []
   },
   "outputs": [
    {
     "data": {
      "application/javascript": [
       "parent.postMessage({\"jupyterEvent\": \"custom.exercise_interaction\", \"data\": {\"outcomeType\": 2, \"failureMessage\": \"Incorrect value for `professors`\", \"interactionType\": 1, \"questionType\": 1, \"questionId\": \"3_WorkingWithCities\", \"learnToolsVersion\": \"0.3.4\", \"valueTowardsCompletion\": 0.0, \"exceptionClass\": \"\", \"trace\": \"\"}}, \"*\")"
      ],
      "text/plain": [
       "<IPython.core.display.Javascript object>"
      ]
     },
     "metadata": {},
     "output_type": "display_data"
    },
    {
     "data": {
      "text/markdown": [
       "<span style=\"color:#cc3333\">Incorrect:</span> Incorrect value for `professors`"
      ],
      "text/plain": [
       "Incorrect: Incorrect value for `professors`"
      ]
     },
     "metadata": {},
     "output_type": "display_data"
    }
   ],
   "source": [
    "# TODO: Your code here!\n",
    "____\n",
    "\n",
    "# Check your answer\n",
    "q3.check()"
   ]
  },
  {
   "cell_type": "code",
   "execution_count": 11,
   "id": "1f1b59ae",
   "metadata": {
    "execution": {
     "iopub.execute_input": "2024-10-16T17:01:29.990070Z",
     "iopub.status.busy": "2024-10-16T17:01:29.989614Z",
     "iopub.status.idle": "2024-10-16T17:01:29.994634Z",
     "shell.execute_reply": "2024-10-16T17:01:29.993477Z"
    },
    "papermill": {
     "duration": 0.014641,
     "end_time": "2024-10-16T17:01:29.996936",
     "exception": false,
     "start_time": "2024-10-16T17:01:29.982295",
     "status": "completed"
    },
    "tags": []
   },
   "outputs": [],
   "source": [
    "# Lines below will give you a hint or solution code\n",
    "#q3.hint()\n",
    "#q3.solution()"
   ]
  },
  {
   "cell_type": "markdown",
   "id": "2b0161dd",
   "metadata": {
    "papermill": {
     "duration": 0.006066,
     "end_time": "2024-10-16T17:01:30.008996",
     "exception": false,
     "start_time": "2024-10-16T17:01:30.002930",
     "status": "completed"
    },
    "tags": []
   },
   "source": [
    "# Congratulations!\n",
    "\n",
    "Congratulations for completing the **Data Cleaning** course on Kaggle Learn!\n",
    "\n",
    "To practice your new skills, you're encouraged to download and investigate some of [Kaggle's Datasets](https://www.kaggle.com/datasets)."
   ]
  },
  {
   "cell_type": "markdown",
   "id": "872469cd",
   "metadata": {
    "papermill": {
     "duration": 0.005775,
     "end_time": "2024-10-16T17:01:30.020837",
     "exception": false,
     "start_time": "2024-10-16T17:01:30.015062",
     "status": "completed"
    },
    "tags": []
   },
   "source": [
    "---\n",
    "\n",
    "\n",
    "\n",
    "\n",
    "*Have questions or comments? Visit the [course discussion forum](https://www.kaggle.com/learn/data-cleaning/discussion) to chat with other learners.*"
   ]
  }
 ],
 "metadata": {
  "kaggle": {
   "accelerator": "none",
   "dataSources": [
    {
     "datasetId": 819513,
     "sourceId": 1402182,
     "sourceType": "datasetVersion"
    }
   ],
   "isGpuEnabled": false,
   "isInternetEnabled": false,
   "language": "python",
   "sourceType": "notebook"
  },
  "kernelspec": {
   "display_name": "Python 3",
   "language": "python",
   "name": "python3"
  },
  "language_info": {
   "codemirror_mode": {
    "name": "ipython",
    "version": 3
   },
   "file_extension": ".py",
   "mimetype": "text/x-python",
   "name": "python",
   "nbconvert_exporter": "python",
   "pygments_lexer": "ipython3",
   "version": "3.10.14"
  },
  "papermill": {
   "default_parameters": {},
   "duration": 5.645766,
   "end_time": "2024-10-16T17:01:30.548513",
   "environment_variables": {},
   "exception": null,
   "input_path": "__notebook__.ipynb",
   "output_path": "__notebook__.ipynb",
   "parameters": {},
   "start_time": "2024-10-16T17:01:24.902747",
   "version": "2.6.0"
  }
 },
 "nbformat": 4,
 "nbformat_minor": 5
}
